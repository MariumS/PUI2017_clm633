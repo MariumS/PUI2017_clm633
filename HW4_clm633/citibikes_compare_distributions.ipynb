{
 "cells": [
  {
   "cell_type": "markdown",
   "metadata": {
    "collapsed": true,
    "run_control": {
     "frozen": false,
     "read_only": false
    }
   },
   "source": [
    "# Skeleton of Assignment 4:\n",
    "    test if the distribution of \n",
    "    \n",
    "    1) trip duration of bikers that ride during the day vs night\n",
    "    \n",
    "    2) age of bikers for trips originating in Manhattan and in Brooklyn\n",
    "    \n",
    "    are different. Use 3 tests: KS, Pearson's, Spearman's. \n",
    "    \n",
    "    Use the scipy.stats functions scipy.stats.ks_2samp, scipy.stats.pearsonr, scipy.stats.spearmanr. \n",
    "    \n",
    "    For the KS do the test with the entire dataset and with a subset 200 times smaller\n",
    "    \n",
    "    Choose a single significant threshold for the whole exercise. \n",
    "    \n",
    "    For each test phrase the Null Hypothesis in words.\n",
    "    \n",
    "    Describe the return of the scipy function you use in each case.\n",
    "    \n",
    "    State the result in terms of rejection of the Null."
   ]
  },
  {
   "cell_type": "code",
   "execution_count": 2,
   "metadata": {
    "ExecuteTime": {
     "end_time": "2017-10-05T16:48:06.390950",
     "start_time": "2017-10-05T16:48:04.815178"
    },
    "collapsed": false,
    "run_control": {
     "frozen": false,
     "read_only": false
    },
    "scrolled": true
   },
   "outputs": [
    {
     "name": "stdout",
     "output_type": "stream",
     "text": [
      "Populating the interactive namespace from numpy and matplotlib\n"
     ]
    }
   ],
   "source": [
    "# my usual imports and setups\n",
    "import pylab as pl\n",
    "import pandas as pd\n",
    "import numpy as np\n",
    "\n",
    "%pylab inline\n"
   ]
  },
  {
   "cell_type": "markdown",
   "metadata": {
    "run_control": {
     "frozen": false,
     "read_only": false
    }
   },
   "source": [
    "# Read in data\n",
    "I am reading in data from January 2015 with the function that I created getCitiBikeCSV. You are requested to use 2 months at least. It would be a good idea to use data from a colder and a warmer months, since there are more riders in the warm weather and ridership patterns may change with weather, temperature, etc. You should use data from multiple months, joining multiple datasets (thus addressing some systematic errors as well)"
   ]
  },
  {
   "cell_type": "code",
   "execution_count": 5,
   "metadata": {
    "ExecuteTime": {
     "end_time": "2017-10-05T16:48:09.386484",
     "start_time": "2017-10-05T16:48:06.821336"
    },
    "collapsed": false,
    "run_control": {
     "frozen": false,
     "read_only": false
    }
   },
   "outputs": [],
   "source": [
    "import glob\n",
    "import zipfile\n",
    "\n",
    "import pandas as pd\n",
    "\n",
    "# lightly adapted from something that i wrote: \n",
    "# https://github.com/thedataincubator/practical-ml/blob/master/anomaly/anomaly1.ipynb\n",
    "DIR = \"/gws/open/Student/citibike/\"\n",
    "data_2017 = glob.glob(DIR + \"*201701*\")\n",
    "fs = [open(fname) for fname in data_2017]\n",
    "zfs = [zipfile.ZipFile(f) for f in fs]\n",
    "\n",
    "# NOTE: I should do more and better cleaning.\n",
    "# But I only care about tripduration and gender for this notebook.\n",
    "def parse_csv(zf):\n",
    "    df = pd.read_csv(zf.open(zf.namelist()[0]))\n",
    "    df.columns = df.columns.str.lower().map(lambda x: \"\".join(x.split(\" \")))\n",
    "    if \"trip duration\" in df:\n",
    "        df[\"tripduration\"] = df[\"trip duration\"]\n",
    "        del df[\"trip duration\"]\n",
    "    return df\n",
    "\n",
    "dfs = pd.concat(parse_csv(zf) for zf in zfs)\n",
    "[zf.close() for zf in zfs]\n",
    "[f.close() for f in fs]\n",
    "df = dfs"
   ]
  },
  {
   "cell_type": "code",
   "execution_count": 6,
   "metadata": {
    "collapsed": false,
    "run_control": {
     "frozen": false,
     "read_only": false
    }
   },
   "outputs": [
    {
     "data": {
      "text/plain": [
       "Index([u'tripduration', u'starttime', u'stoptime', u'startstationid',\n",
       "       u'startstationname', u'startstationlatitude', u'startstationlongitude',\n",
       "       u'endstationid', u'endstationname', u'endstationlatitude',\n",
       "       u'endstationlongitude', u'bikeid', u'usertype', u'birthyear',\n",
       "       u'gender'],\n",
       "      dtype='object')"
      ]
     },
     "execution_count": 6,
     "metadata": {},
     "output_type": "execute_result"
    }
   ],
   "source": [
    "df.columns"
   ]
  },
  {
   "cell_type": "markdown",
   "metadata": {
    "run_control": {
     "frozen": false,
     "read_only": false
    }
   },
   "source": [
    "# SPLIT BY CATEGORY\n",
    "\n",
    "as an example I am splitting data by gender and looking at age or riders:\n",
    "\n",
    "**H0: there is no statistical difference in the age distribution of male and female riders**\n",
    "$$ \\alpha = 0.05 $$\n",
    "\n",
    "extracting the age happens in the cell below"
   ]
  },
  {
   "cell_type": "code",
   "execution_count": 7,
   "metadata": {
    "ExecuteTime": {
     "end_time": "2017-10-05T16:51:52.357332",
     "start_time": "2017-10-05T16:51:52.017199"
    },
    "collapsed": true,
    "run_control": {
     "frozen": false,
     "read_only": false
    }
   },
   "outputs": [],
   "source": [
    "#df is the dataframe where the content of the csv file is stored\n",
    "df['ageM'] = 2015 - df['birthyear'][(df['usertype'] == 'Subscriber') & (df['gender'] == 1)]\n",
    "df['ageF'] = 2015 - df['birthyear'][(df['usertype'] == 'Subscriber') & (df['gender'] == 2)]"
   ]
  },
  {
   "cell_type": "code",
   "execution_count": 8,
   "metadata": {
    "collapsed": false,
    "run_control": {
     "frozen": false,
     "read_only": false
    }
   },
   "outputs": [
    {
     "data": {
      "text/html": [
       "<div>\n",
       "<style>\n",
       "    .dataframe thead tr:only-child th {\n",
       "        text-align: right;\n",
       "    }\n",
       "\n",
       "    .dataframe thead th {\n",
       "        text-align: left;\n",
       "    }\n",
       "\n",
       "    .dataframe tbody tr th {\n",
       "        vertical-align: top;\n",
       "    }\n",
       "</style>\n",
       "<table border=\"1\" class=\"dataframe\">\n",
       "  <thead>\n",
       "    <tr style=\"text-align: right;\">\n",
       "      <th></th>\n",
       "      <th>tripduration</th>\n",
       "      <th>starttime</th>\n",
       "      <th>stoptime</th>\n",
       "      <th>startstationid</th>\n",
       "      <th>startstationname</th>\n",
       "      <th>startstationlatitude</th>\n",
       "      <th>startstationlongitude</th>\n",
       "      <th>endstationid</th>\n",
       "      <th>endstationname</th>\n",
       "      <th>endstationlatitude</th>\n",
       "      <th>endstationlongitude</th>\n",
       "      <th>bikeid</th>\n",
       "      <th>usertype</th>\n",
       "      <th>birthyear</th>\n",
       "      <th>gender</th>\n",
       "      <th>ageM</th>\n",
       "      <th>ageF</th>\n",
       "    </tr>\n",
       "  </thead>\n",
       "  <tbody>\n",
       "    <tr>\n",
       "      <th>0</th>\n",
       "      <td>680</td>\n",
       "      <td>2017-01-01 00:00:21</td>\n",
       "      <td>2017-01-01 00:11:41</td>\n",
       "      <td>3226</td>\n",
       "      <td>W 82 St &amp; Central Park West</td>\n",
       "      <td>40.782750</td>\n",
       "      <td>-73.971370</td>\n",
       "      <td>3165</td>\n",
       "      <td>Central Park West &amp; W 72 St</td>\n",
       "      <td>40.775794</td>\n",
       "      <td>-73.976206</td>\n",
       "      <td>25542</td>\n",
       "      <td>Subscriber</td>\n",
       "      <td>1965.0</td>\n",
       "      <td>2</td>\n",
       "      <td>NaN</td>\n",
       "      <td>50.0</td>\n",
       "    </tr>\n",
       "    <tr>\n",
       "      <th>1</th>\n",
       "      <td>1282</td>\n",
       "      <td>2017-01-01 00:00:45</td>\n",
       "      <td>2017-01-01 00:22:08</td>\n",
       "      <td>3263</td>\n",
       "      <td>Cooper Square &amp; E 7 St</td>\n",
       "      <td>40.729236</td>\n",
       "      <td>-73.990868</td>\n",
       "      <td>498</td>\n",
       "      <td>Broadway &amp; W 32 St</td>\n",
       "      <td>40.748549</td>\n",
       "      <td>-73.988084</td>\n",
       "      <td>21136</td>\n",
       "      <td>Subscriber</td>\n",
       "      <td>1987.0</td>\n",
       "      <td>2</td>\n",
       "      <td>NaN</td>\n",
       "      <td>28.0</td>\n",
       "    </tr>\n",
       "    <tr>\n",
       "      <th>2</th>\n",
       "      <td>648</td>\n",
       "      <td>2017-01-01 00:00:57</td>\n",
       "      <td>2017-01-01 00:11:46</td>\n",
       "      <td>3143</td>\n",
       "      <td>5 Ave &amp; E 78 St</td>\n",
       "      <td>40.776829</td>\n",
       "      <td>-73.963888</td>\n",
       "      <td>3152</td>\n",
       "      <td>3 Ave &amp; E 71 St</td>\n",
       "      <td>40.768737</td>\n",
       "      <td>-73.961199</td>\n",
       "      <td>18147</td>\n",
       "      <td>Customer</td>\n",
       "      <td>NaN</td>\n",
       "      <td>0</td>\n",
       "      <td>NaN</td>\n",
       "      <td>NaN</td>\n",
       "    </tr>\n",
       "    <tr>\n",
       "      <th>3</th>\n",
       "      <td>631</td>\n",
       "      <td>2017-01-01 00:01:10</td>\n",
       "      <td>2017-01-01 00:11:42</td>\n",
       "      <td>3143</td>\n",
       "      <td>5 Ave &amp; E 78 St</td>\n",
       "      <td>40.776829</td>\n",
       "      <td>-73.963888</td>\n",
       "      <td>3152</td>\n",
       "      <td>3 Ave &amp; E 71 St</td>\n",
       "      <td>40.768737</td>\n",
       "      <td>-73.961199</td>\n",
       "      <td>21211</td>\n",
       "      <td>Customer</td>\n",
       "      <td>NaN</td>\n",
       "      <td>0</td>\n",
       "      <td>NaN</td>\n",
       "      <td>NaN</td>\n",
       "    </tr>\n",
       "    <tr>\n",
       "      <th>4</th>\n",
       "      <td>621</td>\n",
       "      <td>2017-01-01 00:01:25</td>\n",
       "      <td>2017-01-01 00:11:47</td>\n",
       "      <td>3143</td>\n",
       "      <td>5 Ave &amp; E 78 St</td>\n",
       "      <td>40.776829</td>\n",
       "      <td>-73.963888</td>\n",
       "      <td>3152</td>\n",
       "      <td>3 Ave &amp; E 71 St</td>\n",
       "      <td>40.768737</td>\n",
       "      <td>-73.961199</td>\n",
       "      <td>26819</td>\n",
       "      <td>Customer</td>\n",
       "      <td>NaN</td>\n",
       "      <td>0</td>\n",
       "      <td>NaN</td>\n",
       "      <td>NaN</td>\n",
       "    </tr>\n",
       "  </tbody>\n",
       "</table>\n",
       "</div>"
      ],
      "text/plain": [
       "   tripduration            starttime             stoptime  startstationid  \\\n",
       "0           680  2017-01-01 00:00:21  2017-01-01 00:11:41            3226   \n",
       "1          1282  2017-01-01 00:00:45  2017-01-01 00:22:08            3263   \n",
       "2           648  2017-01-01 00:00:57  2017-01-01 00:11:46            3143   \n",
       "3           631  2017-01-01 00:01:10  2017-01-01 00:11:42            3143   \n",
       "4           621  2017-01-01 00:01:25  2017-01-01 00:11:47            3143   \n",
       "\n",
       "              startstationname  startstationlatitude  startstationlongitude  \\\n",
       "0  W 82 St & Central Park West             40.782750             -73.971370   \n",
       "1       Cooper Square & E 7 St             40.729236             -73.990868   \n",
       "2              5 Ave & E 78 St             40.776829             -73.963888   \n",
       "3              5 Ave & E 78 St             40.776829             -73.963888   \n",
       "4              5 Ave & E 78 St             40.776829             -73.963888   \n",
       "\n",
       "   endstationid               endstationname  endstationlatitude  \\\n",
       "0          3165  Central Park West & W 72 St           40.775794   \n",
       "1           498           Broadway & W 32 St           40.748549   \n",
       "2          3152              3 Ave & E 71 St           40.768737   \n",
       "3          3152              3 Ave & E 71 St           40.768737   \n",
       "4          3152              3 Ave & E 71 St           40.768737   \n",
       "\n",
       "   endstationlongitude  bikeid    usertype  birthyear  gender  ageM  ageF  \n",
       "0           -73.976206   25542  Subscriber     1965.0       2   NaN  50.0  \n",
       "1           -73.988084   21136  Subscriber     1987.0       2   NaN  28.0  \n",
       "2           -73.961199   18147    Customer        NaN       0   NaN   NaN  \n",
       "3           -73.961199   21211    Customer        NaN       0   NaN   NaN  \n",
       "4           -73.961199   26819    Customer        NaN       0   NaN   NaN  "
      ]
     },
     "execution_count": 8,
     "metadata": {},
     "output_type": "execute_result"
    }
   ],
   "source": [
    "#dropping some data I no longer need\n",
    "#... your code here...\n",
    "df.head()"
   ]
  },
  {
   "cell_type": "code",
   "execution_count": 9,
   "metadata": {
    "ExecuteTime": {
     "end_time": "2017-10-05T16:55:03.392271",
     "start_time": "2017-10-05T16:55:02.902521"
    },
    "collapsed": false,
    "run_control": {
     "frozen": false,
     "read_only": false
    }
   },
   "outputs": [
    {
     "data": {
      "text/html": [
       "<div>\n",
       "<style>\n",
       "    .dataframe thead tr:only-child th {\n",
       "        text-align: right;\n",
       "    }\n",
       "\n",
       "    .dataframe thead th {\n",
       "        text-align: left;\n",
       "    }\n",
       "\n",
       "    .dataframe tbody tr th {\n",
       "        vertical-align: top;\n",
       "    }\n",
       "</style>\n",
       "<table border=\"1\" class=\"dataframe\">\n",
       "  <thead>\n",
       "    <tr style=\"text-align: right;\">\n",
       "      <th></th>\n",
       "      <th>tripduration</th>\n",
       "      <th>startstationid</th>\n",
       "      <th>startstationlatitude</th>\n",
       "      <th>startstationlongitude</th>\n",
       "      <th>endstationid</th>\n",
       "      <th>endstationlatitude</th>\n",
       "      <th>endstationlongitude</th>\n",
       "      <th>bikeid</th>\n",
       "      <th>birthyear</th>\n",
       "      <th>gender</th>\n",
       "      <th>ageM</th>\n",
       "      <th>ageF</th>\n",
       "    </tr>\n",
       "  </thead>\n",
       "  <tbody>\n",
       "    <tr>\n",
       "      <th>count</th>\n",
       "      <td>7.266760e+05</td>\n",
       "      <td>726676.000000</td>\n",
       "      <td>726676.000000</td>\n",
       "      <td>726676.000000</td>\n",
       "      <td>726676.000000</td>\n",
       "      <td>726676.000000</td>\n",
       "      <td>726676.000000</td>\n",
       "      <td>726676.000000</td>\n",
       "      <td>697600.000000</td>\n",
       "      <td>726676.000000</td>\n",
       "      <td>539466.000000</td>\n",
       "      <td>151966.000000</td>\n",
       "    </tr>\n",
       "    <tr>\n",
       "      <th>mean</th>\n",
       "      <td>7.778989e+02</td>\n",
       "      <td>1222.917630</td>\n",
       "      <td>40.737372</td>\n",
       "      <td>-73.984795</td>\n",
       "      <td>1197.252902</td>\n",
       "      <td>40.737077</td>\n",
       "      <td>-73.985133</td>\n",
       "      <td>21713.053902</td>\n",
       "      <td>1977.122481</td>\n",
       "      <td>1.166728</td>\n",
       "      <td>38.104522</td>\n",
       "      <td>37.191727</td>\n",
       "    </tr>\n",
       "    <tr>\n",
       "      <th>std</th>\n",
       "      <td>1.124683e+04</td>\n",
       "      <td>1277.955252</td>\n",
       "      <td>0.072596</td>\n",
       "      <td>0.123776</td>\n",
       "      <td>1266.085070</td>\n",
       "      <td>0.072474</td>\n",
       "      <td>0.123782</td>\n",
       "      <td>4199.313576</td>\n",
       "      <td>11.925020</td>\n",
       "      <td>0.475971</td>\n",
       "      <td>11.869746</td>\n",
       "      <td>11.929118</td>\n",
       "    </tr>\n",
       "    <tr>\n",
       "      <th>min</th>\n",
       "      <td>6.100000e+01</td>\n",
       "      <td>72.000000</td>\n",
       "      <td>0.000000</td>\n",
       "      <td>-74.031372</td>\n",
       "      <td>72.000000</td>\n",
       "      <td>0.000000</td>\n",
       "      <td>-74.033459</td>\n",
       "      <td>14529.000000</td>\n",
       "      <td>1885.000000</td>\n",
       "      <td>0.000000</td>\n",
       "      <td>15.000000</td>\n",
       "      <td>15.000000</td>\n",
       "    </tr>\n",
       "    <tr>\n",
       "      <th>25%</th>\n",
       "      <td>3.310000e+02</td>\n",
       "      <td>358.000000</td>\n",
       "      <td>40.720874</td>\n",
       "      <td>-73.995299</td>\n",
       "      <td>356.000000</td>\n",
       "      <td>40.720828</td>\n",
       "      <td>-73.995960</td>\n",
       "      <td>17859.000000</td>\n",
       "      <td>1969.000000</td>\n",
       "      <td>1.000000</td>\n",
       "      <td>29.000000</td>\n",
       "      <td>28.000000</td>\n",
       "    </tr>\n",
       "    <tr>\n",
       "      <th>50%</th>\n",
       "      <td>5.260000e+02</td>\n",
       "      <td>482.000000</td>\n",
       "      <td>40.739355</td>\n",
       "      <td>-73.987167</td>\n",
       "      <td>479.000000</td>\n",
       "      <td>40.739323</td>\n",
       "      <td>-73.987586</td>\n",
       "      <td>21295.000000</td>\n",
       "      <td>1979.000000</td>\n",
       "      <td>1.000000</td>\n",
       "      <td>36.000000</td>\n",
       "      <td>34.000000</td>\n",
       "    </tr>\n",
       "    <tr>\n",
       "      <th>75%</th>\n",
       "      <td>8.600000e+02</td>\n",
       "      <td>3092.000000</td>\n",
       "      <td>40.755103</td>\n",
       "      <td>-73.976682</td>\n",
       "      <td>3078.000000</td>\n",
       "      <td>40.755003</td>\n",
       "      <td>-73.976806</td>\n",
       "      <td>25803.000000</td>\n",
       "      <td>1987.000000</td>\n",
       "      <td>1.000000</td>\n",
       "      <td>47.000000</td>\n",
       "      <td>46.000000</td>\n",
       "    </tr>\n",
       "    <tr>\n",
       "      <th>max</th>\n",
       "      <td>5.325688e+06</td>\n",
       "      <td>3446.000000</td>\n",
       "      <td>40.804213</td>\n",
       "      <td>0.000000</td>\n",
       "      <td>3447.000000</td>\n",
       "      <td>40.804213</td>\n",
       "      <td>0.000000</td>\n",
       "      <td>27325.000000</td>\n",
       "      <td>2000.000000</td>\n",
       "      <td>2.000000</td>\n",
       "      <td>129.000000</td>\n",
       "      <td>122.000000</td>\n",
       "    </tr>\n",
       "  </tbody>\n",
       "</table>\n",
       "</div>"
      ],
      "text/plain": [
       "       tripduration  startstationid  startstationlatitude  \\\n",
       "count  7.266760e+05   726676.000000         726676.000000   \n",
       "mean   7.778989e+02     1222.917630             40.737372   \n",
       "std    1.124683e+04     1277.955252              0.072596   \n",
       "min    6.100000e+01       72.000000              0.000000   \n",
       "25%    3.310000e+02      358.000000             40.720874   \n",
       "50%    5.260000e+02      482.000000             40.739355   \n",
       "75%    8.600000e+02     3092.000000             40.755103   \n",
       "max    5.325688e+06     3446.000000             40.804213   \n",
       "\n",
       "       startstationlongitude   endstationid  endstationlatitude  \\\n",
       "count          726676.000000  726676.000000       726676.000000   \n",
       "mean              -73.984795    1197.252902           40.737077   \n",
       "std                 0.123776    1266.085070            0.072474   \n",
       "min               -74.031372      72.000000            0.000000   \n",
       "25%               -73.995299     356.000000           40.720828   \n",
       "50%               -73.987167     479.000000           40.739323   \n",
       "75%               -73.976682    3078.000000           40.755003   \n",
       "max                 0.000000    3447.000000           40.804213   \n",
       "\n",
       "       endstationlongitude         bikeid      birthyear         gender  \\\n",
       "count        726676.000000  726676.000000  697600.000000  726676.000000   \n",
       "mean            -73.985133   21713.053902    1977.122481       1.166728   \n",
       "std               0.123782    4199.313576      11.925020       0.475971   \n",
       "min             -74.033459   14529.000000    1885.000000       0.000000   \n",
       "25%             -73.995960   17859.000000    1969.000000       1.000000   \n",
       "50%             -73.987586   21295.000000    1979.000000       1.000000   \n",
       "75%             -73.976806   25803.000000    1987.000000       1.000000   \n",
       "max               0.000000   27325.000000    2000.000000       2.000000   \n",
       "\n",
       "                ageM           ageF  \n",
       "count  539466.000000  151966.000000  \n",
       "mean       38.104522      37.191727  \n",
       "std        11.869746      11.929118  \n",
       "min        15.000000      15.000000  \n",
       "25%        29.000000      28.000000  \n",
       "50%        36.000000      34.000000  \n",
       "75%        47.000000      46.000000  \n",
       "max       129.000000     122.000000  "
      ]
     },
     "execution_count": 9,
     "metadata": {},
     "output_type": "execute_result"
    }
   ],
   "source": [
    "#your df should look something like this\n",
    "# look at these data carefully... you may see someinteresting values!\n",
    "df.describe()"
   ]
  },
  {
   "cell_type": "code",
   "execution_count": 10,
   "metadata": {
    "ExecuteTime": {
     "end_time": "2017-10-05T16:55:05.649685",
     "start_time": "2017-10-05T16:55:05.635796"
    },
    "collapsed": false,
    "run_control": {
     "frozen": false,
     "read_only": false
    }
   },
   "outputs": [],
   "source": [
    "# dropping NaN values\n",
    "df['ageM'].dropna(inplace= True)\n",
    "df['ageF'].dropna(inplace= True)"
   ]
  },
  {
   "cell_type": "markdown",
   "metadata": {
    "run_control": {
     "frozen": false,
     "read_only": false
    }
   },
   "source": [
    "lets split age in 10 year bins. the dataset is very large, so i could be split in smaller bins, but I will chose 10 years in the interest of time. \n",
    "the bin size choice should be a balance between properly sample the age space, have enough counts in each bin that the statistical noise is not significant (remember that is > sqrt(N)!) and the computational requirement to computatinal facilities ratio. "
   ]
  },
  {
   "cell_type": "markdown",
   "metadata": {
    "run_control": {
     "frozen": false,
     "read_only": false
    }
   },
   "source": [
    "the next several steps are needed if you want to code up the KS test from scratch. that is for extra credit, so if you do not want to do it you may not need to plot split the distribution in bins and create the cumulative HOWEVER it is a great idea to do it anyways to explore your data viaually! remember Ascombe's quartet!!"
   ]
  },
  {
   "cell_type": "code",
   "execution_count": 11,
   "metadata": {
    "ExecuteTime": {
     "end_time": "2017-10-05T16:55:21.602238",
     "start_time": "2017-10-05T16:55:20.487384"
    },
    "collapsed": false,
    "run_control": {
     "frozen": false,
     "read_only": false
    }
   },
   "outputs": [
    {
     "data": {
      "image/png": "[encoded data removed]",
      "text/plain": [
       "<matplotlib.figure.Figure at 0x7f97fe930e10>"
      ]
     },
     "metadata": {},
     "output_type": "display_data"
    },
    {
     "data": {
      "image/png": "[encoded data removed]",
      "text/plain": [
       "<matplotlib.figure.Figure at 0x7f97eee66a50>"
      ]
     },
     "metadata": {},
     "output_type": "display_data"
    }
   ],
   "source": [
    "# plotting histogramswith pandas is a bitdifferent than with pylab\n",
    "# this is a VERY USEFUL syntaxfor you to knonw!\n",
    "bins = np.arange(10, 99, 5)\n",
    "axM = df.ageM.groupby(pd.cut(df.ageM, bins)).agg([count_nonzero]).plot(kind='bar', \n",
    "                                                                legend=False)\n",
    "axM.set_title(\"male riders\")\n",
    "axF = df.ageF.groupby(pd.cut(df.ageF, bins)).agg([count_nonzero]).plot(kind='bar',\n",
    "                                                                legend=False)\n",
    "axF.set_title(\"female riders\");\n"
   ]
  },
  {
   "cell_type": "markdown",
   "metadata": {
    "run_control": {
     "frozen": false,
     "read_only": false
    }
   },
   "source": [
    "**Figure 1: histogrammed distribution of riders' ages by gender **\n",
    "here is where you should have a nice caption that describes what I am looking at, why I am looking at it, and what I should notice"
   ]
  },
  {
   "cell_type": "markdown",
   "metadata": {
    "run_control": {
     "frozen": false,
     "read_only": false
    }
   },
   "source": [
    "this is how the cumulative distributions look like.  Notice that i am normalizing them! if i want to reat an observed distribution like a probablility distribution i have to normalize it"
   ]
  },
  {
   "cell_type": "code",
   "execution_count": 12,
   "metadata": {
    "collapsed": false,
    "run_control": {
     "frozen": false,
     "read_only": false
    },
    "scrolled": false
   },
   "outputs": [
    {
     "name": "stdout",
     "output_type": "stream",
     "text": [
      "          count_nonzero\n",
      "ageM                   \n",
      "(10, 15]       0.000715\n",
      "(15, 20]       0.000862\n",
      "(20, 25]       0.024385\n",
      "(25, 30]       0.053195\n",
      "(30, 35]       0.046118\n",
      "(35, 40]       0.026604\n",
      "(40, 45]       0.008208\n",
      "(45, 50]       0.011829\n",
      "(50, 55]       0.006248\n",
      "(55, 60]       0.004727\n",
      "(60, 65]       0.003055\n",
      "(65, 70]       0.000023\n",
      "(70, 75]       0.000004\n",
      "(75, 80]       0.000132\n",
      "(80, 85]       0.000033\n",
      "(85, 90]            NaN\n",
      "(90, 95]       0.000000\n"
     ]
    },
    {
     "name": "stderr",
     "output_type": "stream",
     "text": [
      "/opt/rh/anaconda/root/lib/python2.7/site-packages/ipykernel/__main__.py:11: RuntimeWarning: invalid value encountered in sqrt\n"
     ]
    },
    {
     "data": {
      "text/plain": [
       "<matplotlib.legend.Legend at 0x7f97ee2780d0>"
      ]
     },
     "execution_count": 12,
     "metadata": {},
     "output_type": "execute_result"
    },
    {
     "data": {
      "image/png": "[encoded data removed]",
      "text/plain": [
       "<matplotlib.figure.Figure at 0x7f97eed43650>"
      ]
     },
     "metadata": {},
     "output_type": "display_data"
    }
   ],
   "source": [
    "#print df.ageS, df.ageS.cumsum()\n",
    "\n",
    "csM=df.ageM.groupby(pd.cut(df.ageM, bins)).agg([count_nonzero]).cumsum()\n",
    "\n",
    "csF=df.ageF.groupby(pd.cut(df.ageF, bins)).agg([count_nonzero]).cumsum()\n",
    "\n",
    "print (np.abs(csM / csM.max()-csF / csF.max()))\n",
    "\n",
    "pl.plot(bins[:-1] + 5, csM / csM.max(), label = \"M\")\n",
    "pl.plot(bins[:-1] + 5, csF / csF.max(), label = \"F\")\n",
    "pl.plot(bins[:-1] + 5, np.sqrt(csF / csF.max() - csM / csM.max())**2, 'k-',\n",
    "        label = \"difference\")\n",
    "pl.xlabel(\"Age\")\n",
    "pl.ylabel(\"Normalized Cumulative Number\")\n",
    "pl.legend()"
   ]
  },
  {
   "cell_type": "markdown",
   "metadata": {
    "run_control": {
     "frozen": false,
     "read_only": false
    }
   },
   "source": [
    "** Figure 2: the cumulative distribution of CitiBike riders' ages by gender** ... [a good caption here]"
   ]
  },
  {
   "cell_type": "markdown",
   "metadata": {
    "run_control": {
     "frozen": false,
     "read_only": false
    }
   },
   "source": [
    "They look similar! But the difference gets to 10%. If I wanted to code the KS test by hand I woud have everything I need: the normalized cumulative distributions can be subtracted from each other and the max distance can calculated. \n",
    "\n",
    "Notice that there may be NaN values you are gonna have to deal with! \n",
    "You can do that for example with a Boolean statementsuch as  df.ageF[~np.isnan(df.ageF)] or you can use numpy functions that deal with Nan values: nansum, nanmean, nanstd..."
   ]
  },
  {
   "cell_type": "markdown",
   "metadata": {
    "run_control": {
     "frozen": false,
     "read_only": false
    }
   },
   "source": [
    "lets run the scipy KS test"
   ]
  },
  {
   "cell_type": "code",
   "execution_count": 13,
   "metadata": {
    "ExecuteTime": {
     "end_time": "2017-10-05T16:58:02.949986",
     "start_time": "2017-10-05T16:58:02.443596"
    },
    "collapsed": false,
    "run_control": {
     "frozen": false,
     "read_only": false
    },
    "scrolled": false
   },
   "outputs": [],
   "source": [
    "import scipy.stats\n",
    "#remember that your imports should all be at the top. I leave it here to hightlight that this package is needed at this point of the workflow"
   ]
  },
  {
   "cell_type": "markdown",
   "metadata": {
    "collapsed": true,
    "run_control": {
     "frozen": false,
     "read_only": false
    }
   },
   "source": [
    "# KS tests to compare 2 samples\n",
    "\n",
    "http://docs.scipy.org/doc/scipy-0.15.1/reference/generated/scipy.stats.ks_2samp.html\n",
    "\n",
    "the KS test in scipy returns the p-value BUT make sure you understand what the NULL is! read the documentation carefully! what is the null hypothesis that you can/cannot reject?"
   ]
  },
  {
   "cell_type": "code",
   "execution_count": 15,
   "metadata": {
    "ExecuteTime": {
     "end_time": "2017-10-05T16:58:13.968035",
     "start_time": "2017-10-05T16:58:13.899033"
    },
    "collapsed": false,
    "run_control": {
     "frozen": false,
     "read_only": false
    }
   },
   "outputs": [
    {
     "name": "stdout",
     "output_type": "stream",
     "text": [
      "Ks_2sampResult(statistic=0.055113049036452033, pvalue=1.8612113973258488e-313)\n"
     ]
    }
   ],
   "source": [
    "ks = scipy.stats.ks_2samp(df.ageM, df.ageF)\n",
    "print (ks)"
   ]
  },
  {
   "cell_type": "markdown",
   "metadata": {
    "run_control": {
     "frozen": false,
     "read_only": false
    }
   },
   "source": [
    "**  FILL IN THE CELL BELOW!**"
   ]
  },
  {
   "cell_type": "raw",
   "metadata": {
    "ExecuteTime": {
     "end_time": "2017-10-05T16:58:24.751556",
     "start_time": "2017-10-05T16:58:24.747653"
    },
    "collapsed": true,
    "run_control": {
     "frozen": false,
     "read_only": false
    }
   },
   "source": [
    "## your words here!...\n",
    "## this cell is for you to tell me what the scipy KS test returned and what it means in terms of NULL HYPOTHESIS\n",
    "## to do that refer to the scipy documentation to understand the output of the scipy.stats.ks_2samp function\n",
    "\n",
    "The null hypothesis is that these two samples (age of males and age of females) \n",
    "are drawn from the same continuous distribution. So we reject the null hypothesis that these are drawn from\n",
    "the same distribution, and conclude they are drawn from different underlying distributions."
   ]
  },
  {
   "cell_type": "markdown",
   "metadata": {
    "run_control": {
     "frozen": false,
     "read_only": false
    }
   },
   "source": [
    "The scipy.stats KS test already tells me the significance and the p-value. \n",
    "\n",
    "The next few cells are here just to show you how you would obtain the same result by hand, but they are **not required**. \n",
    "\n",
    "Remember: the Null hypothesis is rejected if \n",
    "\n",
    "$D_KS(n1,n2) > c(\\alpha) \\sqrt{\\frac{(n1 + n2)}{n1n2}}$\n",
    "\n",
    "(see class notes) where $c(\\alpha$) is the inverse of the KS distribution, and you do not have to know how to get that cause there are tables that list critical values!! \n",
    "\n",
    "http://www.real-statistics.com/tests-normality-and-symmetry/statistical-tests-normality-symmetry/kolmogorov-smirnov-test/kolmogorov-distribution/\n",
    "\n",
    "But also this result depends in your choice of binning through, and thustheresultyou get by hand may not be exactly the same as the one the KS returns. Either way: this is how you would calculate the KS statistics by hand."
   ]
  },
  {
   "cell_type": "code",
   "execution_count": 16,
   "metadata": {
    "ExecuteTime": {
     "end_time": "2017-10-05T16:58:33.858841",
     "start_time": "2017-10-05T16:58:33.850240"
    },
    "collapsed": false,
    "run_control": {
     "frozen": false,
     "read_only": false
    }
   },
   "outputs": [
    {
     "data": {
      "image/png": "[encoded data removed]",
      "text/plain": [
       "<IPython.core.display.Image object>"
      ]
     },
     "execution_count": 16,
     "metadata": {},
     "output_type": "execute_result"
    }
   ],
   "source": [
    "#here is the critical values tablel. Have you chosen your significance level yet?? you should do it first thing!\n",
    "from IPython.display import Image\n",
    "Image(filename=\"../plotsforclasses/ks2sample_table.png\")"
   ]
  },
  {
   "cell_type": "code",
   "execution_count": 17,
   "metadata": {
    "ExecuteTime": {
     "end_time": "2017-10-05T16:58:45.489436",
     "start_time": "2017-10-05T16:58:45.483526"
    },
    "collapsed": true,
    "run_control": {
     "frozen": false,
     "read_only": false
    }
   },
   "outputs": [],
   "source": [
    "## your words here!...\n",
    "## this cell is for you to redo the test with reducted dataset \n",
    "## and tell me what the scipy ks test returned and what it means in terms of NULL HYPOTHESIS\n"
   ]
  },
  {
   "cell_type": "markdown",
   "metadata": {
    "run_control": {
     "frozen": false,
     "read_only": false
    }
   },
   "source": [
    "# Now retest using a test for correlation. \n",
    "\n",
    "That will answer a slightly different question though - formulate the NULL appropriately. The tests for correlations (generally) requires the variable to be paired, so that I can tell if x changes does y change similarly. But the datasets are of different size! You will need to reduce them to the same size. You can do that by subsampling of the data: take only 1 ride every of 200, which you can achieve \"slicing and broadcasting\" the array or using one of the python function (built in python numpy.random.choice() functions for example: Docstring:\n",
    "choice(a, size=None, replace=True, p=None)\n",
    "\n",
    "Generates a random sample from a given 1-D array\n",
    "\n",
    "        .. versionadded:: 1.7.0\n",
    "\n",
    "Parameters\n",
    "...\n",
    "\n",
    "But make sure you understand how to use it! there is an option \"replace\" which you should think about."
   ]
  },
  {
   "cell_type": "markdown",
   "metadata": {
    "run_control": {
     "frozen": false,
     "read_only": false
    }
   },
   "source": [
    "# Pearson's  test for correlation\n",
    "\n",
    "** notice that the Pearson's is a pairwise test: the samples need to be **\n",
    " a. the same size\n",
    " b. sorted! (how??)\n",
    "    \n",
    "http://docs.scipy.org/doc/scipy/reference/generated/scipy.stats.pearsonr.html#scipy.stats.pearsonr\n",
    "\n"
   ]
  },
  {
   "cell_type": "code",
   "execution_count": 34,
   "metadata": {
    "ExecuteTime": {
     "end_time": "2017-10-05T17:05:04.485128",
     "start_time": "2017-10-05T17:05:04.480928"
    },
    "collapsed": false,
    "run_control": {
     "frozen": false,
     "read_only": false
    }
   },
   "outputs": [
    {
     "name": "stdout",
     "output_type": "stream",
     "text": [
      "(0.9975927569707318, 0.0)\n",
      "Null hypothesis: these two samples are not linearly correlated\n"
     ]
    }
   ],
   "source": [
    "# your code here!\n",
    "# wrangle the data as needed\n",
    "# please perform the Pearson's test \n",
    "# and tell me what you find in terms of NULL hypothesis\n",
    "agef = df['ageF']\n",
    "agem = df['ageM'].sample(n=len(agef), random_state=42)\n",
    "print scipy.stats.pearsonr(agef.sort_values(), agem.sort_values())\n",
    "\n",
    "print \"Null hypothesis: these two samples are not linearly correlated\""
   ]
  },
  {
   "cell_type": "markdown",
   "metadata": {
    "run_control": {
     "frozen": false,
     "read_only": false
    }
   },
   "source": [
    "# Spearman's  test for correlation\n",
    "\n",
    "http://docs.scipy.org/doc/scipy/reference/generated/scipy.stats.spearmanr.html#scipy.stats.spearmanr"
   ]
  },
  {
   "cell_type": "code",
   "execution_count": 35,
   "metadata": {
    "ExecuteTime": {
     "end_time": "2017-10-05T17:05:09.530148",
     "start_time": "2017-10-05T17:05:09.525214"
    },
    "collapsed": false,
    "run_control": {
     "frozen": false,
     "read_only": false
    }
   },
   "outputs": [
    {
     "name": "stdout",
     "output_type": "stream",
     "text": [
      "Null hypothesis: these two samples are not linearly correlated\n"
     ]
    }
   ],
   "source": [
    "# your code here!\n",
    "# wrangle the data as needed\n",
    "# please perform the Spearman's test and tell me what you find in terms of NULL hypothesis\n",
    "scipy.stats.spearmanr(agef.sort_values(), agem.sort_values())\n",
    "print \"Null hypothesis: these two samples are not linearly correlated\""
   ]
  },
  {
   "cell_type": "markdown",
   "metadata": {
    "run_control": {
     "frozen": false,
     "read_only": false
    }
   },
   "source": [
    "** please comment on the numbers that you get in the light of the scipy manual: what is rerutned? what does it mean??**"
   ]
  },
  {
   "cell_type": "markdown",
   "metadata": {
    "collapsed": true,
    "run_control": {
     "frozen": false,
     "read_only": false
    }
   },
   "source": [
    "### Use: trip duration of bikers that ride during the day vs night. State your result in words in terms of the Null Hypothesis"
   ]
  },
  {
   "cell_type": "code",
   "execution_count": 49,
   "metadata": {
    "collapsed": false
   },
   "outputs": [],
   "source": [
    "# golfing a -10 here\n",
    "df['day'] = df['starttime'].apply(lambda x: int(int(x.split(\" \")[1].split(\":\")[0]) > 7 and\\\n",
    "                                            int(x.split(\" \")[1].split(\":\")[0]) < 19))"
   ]
  },
  {
   "cell_type": "code",
   "execution_count": 59,
   "metadata": {
    "collapsed": false
   },
   "outputs": [
    {
     "name": "stdout",
     "output_type": "stream",
     "text": [
      "Ks_2sampResult(statistic=0.056212068985069363, pvalue=0.0)\n",
      "null hypothesis: ride times for day and night riders are drawn from the same underlying distribution\n",
      "alternative hypothesis: ride times for day and night riders come from different distributions\n",
      "result: we reject the null hypothesis and accept the alternative that day/night rides come from different distributions\n"
     ]
    }
   ],
   "source": [
    "daytime = df[df['day'] == 1]['tripduration']\n",
    "nighttime = df[df['day'] == 0]['tripduration']\n",
    "ks = scipy.stats.ks_2samp(daytime, nighttime)\n",
    "print ks\n",
    "print \"null hypothesis: ride times for day and night riders are drawn from the same underlying distribution\"\n",
    "print \"alternative hypothesis: ride times for day and night riders come from different distributions\"\n",
    "print \"result: we reject the null hypothesis and accept the alternative that day/night rides come from different distributions\""
   ]
  },
  {
   "cell_type": "code",
   "execution_count": 100,
   "metadata": {
    "collapsed": false
   },
   "outputs": [
    {
     "name": "stdout",
     "output_type": "stream",
     "text": [
      "pearson: (0.90176946775612143, 0.0)\n",
      "spearman: SpearmanrResult(correlation=0.99999896361087171, pvalue=0.0)\n",
      "null hypothesis: ride times among day and night rides are not linearly or rank-order (resp.) correlated\n",
      "alternative hypothesis: ride times among day and night rides are linearly or rank-order correlated\n",
      "result: we reject the null hypothesis and accept the alternative that rides are linearly or rank-order correlated\n"
     ]
    }
   ],
   "source": [
    "day_corr_samp = daytime.sample(len(nighttime)).sort_values()\n",
    "night_corr_samp = nighttime.sort_values()\n",
    "print \"pearson: {}\".format(scipy.stats.pearsonr(day_corr_samp, night_corr_samp))\n",
    "print \"spearman: {}\".format(scipy.stats.spearmanr(day_corr_samp, night_corr_samp))\n",
    "print \"null hypothesis: ride times among day and night rides are not linearly or rank-order (resp.) correlated\"\n",
    "print \"alternative hypothesis: ride times among day and night rides are linearly or rank-order correlated\"\n",
    "print \"result: we reject the null hypothesis and accept the alternative that rides are linearly or rank-order correlated\""
   ]
  },
  {
   "cell_type": "markdown",
   "metadata": {},
   "source": [
    "### Use: age of bikers for trips originating in Manhattan and in Brooklyn. Use at least 2 months of citibike data"
   ]
  },
  {
   "cell_type": "code",
   "execution_count": 62,
   "metadata": {
    "collapsed": false
   },
   "outputs": [
    {
     "data": {
      "text/plain": [
       "Index([u'tripduration', u'starttime', u'stoptime', u'startstationid',\n",
       "       u'startstationname', u'startstationlatitude', u'startstationlongitude',\n",
       "       u'endstationid', u'endstationname', u'endstationlatitude',\n",
       "       u'endstationlongitude', u'bikeid', u'usertype', u'birthyear', u'gender',\n",
       "       u'ageM', u'ageF', u'day'],\n",
       "      dtype='object')"
      ]
     },
     "execution_count": 62,
     "metadata": {},
     "output_type": "execute_result"
    }
   ],
   "source": [
    "df.columns"
   ]
  },
  {
   "cell_type": "code",
   "execution_count": 81,
   "metadata": {
    "collapsed": false
   },
   "outputs": [
    {
     "data": {
      "text/plain": [
       "0                  POINT (-73.97136999999999 40.78275)\n",
       "1         POINT (-73.99086803197861 40.72923649910006)\n",
       "2         POINT (-73.96388769149779 40.77682863439968)\n",
       "3         POINT (-73.96388769149779 40.77682863439968)\n",
       "4         POINT (-73.96388769149779 40.77682863439968)\n",
       "5                      POINT (-73.97782542 40.7734066)\n",
       "6               POINT (-73.98191841000001 40.76915505)\n",
       "7               POINT (-73.98753523000001 40.75172632)\n",
       "8                      POINT (-73.98656928 40.7014851)\n",
       "9         POINT (-73.97620573639871 40.77579376683666)\n",
       "10                    POINT (-73.97706058 40.74290902)\n",
       "11                     POINT (-73.98683077 40.7451677)\n",
       "12              POINT (-73.98316936000001 40.75527307)\n",
       "13                        POINT (-73.986923 40.734232)\n",
       "14                    POINT (-73.99461843 40.76009437)\n",
       "15                     POINT (-73.97754961 40.7785669)\n",
       "16                    POINT (-73.99461843 40.76009437)\n",
       "17                    POINT (-73.98690506 40.76584941)\n",
       "18                    POINT (-73.98765428 40.75097711)\n",
       "19                    POINT (-74.00026394 40.73224119)\n",
       "20        POINT (-73.96409422159195 40.77118287540658)\n",
       "21                POINT (-74.00166999999999 40.707873)\n",
       "22                    POINT (-73.98368779 40.72217444)\n",
       "23              POINT (-74.00297088000001 40.72710258)\n",
       "24              POINT (-73.98789472999999 40.76461837)\n",
       "25              POINT (-73.98789472999999 40.76461837)\n",
       "26              POINT (-73.98789472999999 40.76461837)\n",
       "27                 POINT (-73.9816324043 40.752062307)\n",
       "28                    POINT (-74.00214988 40.73038599)\n",
       "29                POINT (-73.98863900000001 40.768254)\n",
       "                              ...                     \n",
       "726646          POINT (-73.98859650999999 40.75929124)\n",
       "726647          POINT (-73.98859650999999 40.75929124)\n",
       "726648                 POINT (-73.98258555 40.6827549)\n",
       "726649                 POINT (-73.98683077 40.7451677)\n",
       "726650                 POINT (-73.95482273 40.7689738)\n",
       "726651          POINT (-73.99074142000001 40.73454567)\n",
       "726652                POINT (-73.99974372 40.71602118)\n",
       "726653          POINT (-74.00297088000001 40.72710258)\n",
       "726654            POINT (-74.0026376103 40.7390169121)\n",
       "726655                POINT (-73.98268129 40.76344058)\n",
       "726656           POINT (-74.00197138999999 40.7454973)\n",
       "726657           POINT (-74.00197138999999 40.7454973)\n",
       "726658          POINT (-74.00618025999999 40.73652889)\n",
       "726659          POINT (-74.00297088000001 40.72710258)\n",
       "726660                POINT (-73.97374737 40.77896784)\n",
       "726661                POINT (-73.97573881 40.73314259)\n",
       "726662     POINT (-73.96841526031494 40.7076449441757)\n",
       "726663     POINT (-73.96841526031494 40.7076449441757)\n",
       "726664     POINT (-73.96841526031494 40.7076449441757)\n",
       "726665          POINT (-73.98672378000001 40.73047309)\n",
       "726666                POINT (-73.98268129 40.76344058)\n",
       "726667                POINT (-73.99726235 40.74238787)\n",
       "726668                 POINT (-73.94860294 40.7859201)\n",
       "726669                POINT (-74.00026394 40.73224119)\n",
       "726670                    POINT (-74.000271 40.735238)\n",
       "726671                POINT (-73.98765428 40.75097711)\n",
       "726672                 POINT (-73.95852515 40.7190095)\n",
       "726673    POINT (-74.01630342006682 40.64667789889786)\n",
       "726674    POINT (-74.01630342006682 40.64667789889786)\n",
       "726675    POINT (-74.01630342006682 40.64667789889786)\n",
       "Name: geometry, Length: 726676, dtype: object"
      ]
     },
     "execution_count": 81,
     "metadata": {},
     "output_type": "execute_result"
    }
   ],
   "source": [
    "import geopandas as gpd\n",
    "from shapely.geometry import Point\n",
    "def point_cons(args):\n",
    "    return Point(*args)\n",
    "df[\"geometry\"] = df[[\"startstationlongitude\", \"startstationlatitude\"]].apply(point_cons, axis=1)\n",
    "df[\"geometry\"].head()"
   ]
  },
  {
   "cell_type": "code",
   "execution_count": 82,
   "metadata": {
    "collapsed": false
   },
   "outputs": [
    {
     "data": {
      "text/plain": [
       "<matplotlib.axes._subplots.AxesSubplot at 0x7f9720326890>"
      ]
     },
     "execution_count": 82,
     "metadata": {},
     "output_type": "execute_result"
    },
    {
     "data": {
      "image/png": "[encoded data removed]",
      "text/plain": [
       "<matplotlib.figure.Figure at 0x7f9720326090>"
      ]
     },
     "metadata": {},
     "output_type": "display_data"
    }
   ],
   "source": [
    "gdf = gpd.GeoDataFrame(df)\n",
    "gdf.sample(500).plot()"
   ]
  },
  {
   "cell_type": "code",
   "execution_count": 76,
   "metadata": {
    "collapsed": false
   },
   "outputs": [
    {
     "name": "stdout",
     "output_type": "stream",
     "text": [
      "--2017-10-10 17:24:44--  https://raw.githubusercontent.com/dwillis/nyc-maps/master/boroughs.geojson\n",
      "Resolving raw.githubusercontent.com... 151.101.116.133\n",
      "Connecting to raw.githubusercontent.com|151.101.116.133|:443... connected.\n",
      "HTTP request sent, awaiting response... 200 OK\n",
      "Length: 3077124 (2.9M) [text/plain]\n",
      "Saving to: “boroughs.geojson”\n",
      "\n",
      "100%[======================================>] 3,077,124   6.11M/s   in 0.5s    \n",
      "\n",
      "2017-10-10 17:24:45 (6.11 MB/s) - “boroughs.geojson” saved [3077124/3077124]\n",
      "\n"
     ]
    }
   ],
   "source": [
    "!wget -nc \"https://raw.githubusercontent.com/dwillis/nyc-maps/master/boroughs.geojson\"\n",
    "boroughs = gpd.read_file(\"boroughs.geojson\")"
   ]
  },
  {
   "cell_type": "code",
   "execution_count": 87,
   "metadata": {
    "collapsed": false
   },
   "outputs": [
    {
     "data": {
      "text/plain": [
       "<matplotlib.axes._subplots.AxesSubplot at 0x7f97207428d0>"
      ]
     },
     "execution_count": 87,
     "metadata": {},
     "output_type": "execute_result"
    },
    {
     "data": {
      "image/png": "[encoded data removed]",
      "text/plain": [
       "<matplotlib.figure.Figure at 0x7f974b966090>"
      ]
     },
     "metadata": {},
     "output_type": "display_data"
    }
   ],
   "source": [
    "ax = boroughs.plot()\n",
    "gdf.sample(500).plot(ax=ax)"
   ]
  },
  {
   "cell_type": "code",
   "execution_count": 84,
   "metadata": {
    "collapsed": false
   },
   "outputs": [
    {
     "name": "stdout",
     "output_type": "stream",
     "text": [
      "Warning: CRS does not match!\n"
     ]
    }
   ],
   "source": [
    "joined = gpd.sjoin(gdf, boroughs, op='within', how='inner')"
   ]
  },
  {
   "cell_type": "code",
   "execution_count": 86,
   "metadata": {
    "collapsed": false
   },
   "outputs": [
    {
     "data": {
      "text/html": [
       "<div>\n",
       "<style>\n",
       "    .dataframe thead tr:only-child th {\n",
       "        text-align: right;\n",
       "    }\n",
       "\n",
       "    .dataframe thead th {\n",
       "        text-align: left;\n",
       "    }\n",
       "\n",
       "    .dataframe tbody tr th {\n",
       "        vertical-align: top;\n",
       "    }\n",
       "</style>\n",
       "<table border=\"1\" class=\"dataframe\">\n",
       "  <thead>\n",
       "    <tr style=\"text-align: right;\">\n",
       "      <th></th>\n",
       "      <th>tripduration</th>\n",
       "      <th>starttime</th>\n",
       "      <th>stoptime</th>\n",
       "      <th>startstationid</th>\n",
       "      <th>startstationname</th>\n",
       "      <th>startstationlatitude</th>\n",
       "      <th>startstationlongitude</th>\n",
       "      <th>endstationid</th>\n",
       "      <th>endstationname</th>\n",
       "      <th>endstationlatitude</th>\n",
       "      <th>...</th>\n",
       "      <th>gender</th>\n",
       "      <th>ageM</th>\n",
       "      <th>ageF</th>\n",
       "      <th>day</th>\n",
       "      <th>geometry</th>\n",
       "      <th>index_right</th>\n",
       "      <th>BoroCode</th>\n",
       "      <th>BoroName</th>\n",
       "      <th>Shape_Area</th>\n",
       "      <th>Shape_Leng</th>\n",
       "    </tr>\n",
       "  </thead>\n",
       "  <tbody>\n",
       "    <tr>\n",
       "      <th>0</th>\n",
       "      <td>680</td>\n",
       "      <td>2017-01-01 00:00:21</td>\n",
       "      <td>2017-01-01 00:11:41</td>\n",
       "      <td>3226</td>\n",
       "      <td>W 82 St &amp; Central Park West</td>\n",
       "      <td>40.782750</td>\n",
       "      <td>-73.971370</td>\n",
       "      <td>3165</td>\n",
       "      <td>Central Park West &amp; W 72 St</td>\n",
       "      <td>40.775794</td>\n",
       "      <td>...</td>\n",
       "      <td>2</td>\n",
       "      <td>NaN</td>\n",
       "      <td>50.0</td>\n",
       "      <td>0</td>\n",
       "      <td>POINT (-73.97136999999999 40.78275)</td>\n",
       "      <td>3</td>\n",
       "      <td>1</td>\n",
       "      <td>Manhattan</td>\n",
       "      <td>6.364422e+08</td>\n",
       "      <td>358532.95642</td>\n",
       "    </tr>\n",
       "    <tr>\n",
       "      <th>1</th>\n",
       "      <td>1282</td>\n",
       "      <td>2017-01-01 00:00:45</td>\n",
       "      <td>2017-01-01 00:22:08</td>\n",
       "      <td>3263</td>\n",
       "      <td>Cooper Square &amp; E 7 St</td>\n",
       "      <td>40.729236</td>\n",
       "      <td>-73.990868</td>\n",
       "      <td>498</td>\n",
       "      <td>Broadway &amp; W 32 St</td>\n",
       "      <td>40.748549</td>\n",
       "      <td>...</td>\n",
       "      <td>2</td>\n",
       "      <td>NaN</td>\n",
       "      <td>28.0</td>\n",
       "      <td>0</td>\n",
       "      <td>POINT (-73.99086803197861 40.72923649910006)</td>\n",
       "      <td>3</td>\n",
       "      <td>1</td>\n",
       "      <td>Manhattan</td>\n",
       "      <td>6.364422e+08</td>\n",
       "      <td>358532.95642</td>\n",
       "    </tr>\n",
       "    <tr>\n",
       "      <th>2</th>\n",
       "      <td>648</td>\n",
       "      <td>2017-01-01 00:00:57</td>\n",
       "      <td>2017-01-01 00:11:46</td>\n",
       "      <td>3143</td>\n",
       "      <td>5 Ave &amp; E 78 St</td>\n",
       "      <td>40.776829</td>\n",
       "      <td>-73.963888</td>\n",
       "      <td>3152</td>\n",
       "      <td>3 Ave &amp; E 71 St</td>\n",
       "      <td>40.768737</td>\n",
       "      <td>...</td>\n",
       "      <td>0</td>\n",
       "      <td>NaN</td>\n",
       "      <td>NaN</td>\n",
       "      <td>0</td>\n",
       "      <td>POINT (-73.96388769149779 40.77682863439968)</td>\n",
       "      <td>3</td>\n",
       "      <td>1</td>\n",
       "      <td>Manhattan</td>\n",
       "      <td>6.364422e+08</td>\n",
       "      <td>358532.95642</td>\n",
       "    </tr>\n",
       "    <tr>\n",
       "      <th>3</th>\n",
       "      <td>631</td>\n",
       "      <td>2017-01-01 00:01:10</td>\n",
       "      <td>2017-01-01 00:11:42</td>\n",
       "      <td>3143</td>\n",
       "      <td>5 Ave &amp; E 78 St</td>\n",
       "      <td>40.776829</td>\n",
       "      <td>-73.963888</td>\n",
       "      <td>3152</td>\n",
       "      <td>3 Ave &amp; E 71 St</td>\n",
       "      <td>40.768737</td>\n",
       "      <td>...</td>\n",
       "      <td>0</td>\n",
       "      <td>NaN</td>\n",
       "      <td>NaN</td>\n",
       "      <td>0</td>\n",
       "      <td>POINT (-73.96388769149779 40.77682863439968)</td>\n",
       "      <td>3</td>\n",
       "      <td>1</td>\n",
       "      <td>Manhattan</td>\n",
       "      <td>6.364422e+08</td>\n",
       "      <td>358532.95642</td>\n",
       "    </tr>\n",
       "    <tr>\n",
       "      <th>4</th>\n",
       "      <td>621</td>\n",
       "      <td>2017-01-01 00:01:25</td>\n",
       "      <td>2017-01-01 00:11:47</td>\n",
       "      <td>3143</td>\n",
       "      <td>5 Ave &amp; E 78 St</td>\n",
       "      <td>40.776829</td>\n",
       "      <td>-73.963888</td>\n",
       "      <td>3152</td>\n",
       "      <td>3 Ave &amp; E 71 St</td>\n",
       "      <td>40.768737</td>\n",
       "      <td>...</td>\n",
       "      <td>0</td>\n",
       "      <td>NaN</td>\n",
       "      <td>NaN</td>\n",
       "      <td>0</td>\n",
       "      <td>POINT (-73.96388769149779 40.77682863439968)</td>\n",
       "      <td>3</td>\n",
       "      <td>1</td>\n",
       "      <td>Manhattan</td>\n",
       "      <td>6.364422e+08</td>\n",
       "      <td>358532.95642</td>\n",
       "    </tr>\n",
       "  </tbody>\n",
       "</table>\n",
       "<p>5 rows × 24 columns</p>\n",
       "</div>"
      ],
      "text/plain": [
       "   tripduration            starttime             stoptime  startstationid  \\\n",
       "0           680  2017-01-01 00:00:21  2017-01-01 00:11:41            3226   \n",
       "1          1282  2017-01-01 00:00:45  2017-01-01 00:22:08            3263   \n",
       "2           648  2017-01-01 00:00:57  2017-01-01 00:11:46            3143   \n",
       "3           631  2017-01-01 00:01:10  2017-01-01 00:11:42            3143   \n",
       "4           621  2017-01-01 00:01:25  2017-01-01 00:11:47            3143   \n",
       "\n",
       "              startstationname  startstationlatitude  startstationlongitude  \\\n",
       "0  W 82 St & Central Park West             40.782750             -73.971370   \n",
       "1       Cooper Square & E 7 St             40.729236             -73.990868   \n",
       "2              5 Ave & E 78 St             40.776829             -73.963888   \n",
       "3              5 Ave & E 78 St             40.776829             -73.963888   \n",
       "4              5 Ave & E 78 St             40.776829             -73.963888   \n",
       "\n",
       "   endstationid               endstationname  endstationlatitude  \\\n",
       "0          3165  Central Park West & W 72 St           40.775794   \n",
       "1           498           Broadway & W 32 St           40.748549   \n",
       "2          3152              3 Ave & E 71 St           40.768737   \n",
       "3          3152              3 Ave & E 71 St           40.768737   \n",
       "4          3152              3 Ave & E 71 St           40.768737   \n",
       "\n",
       "       ...       gender  ageM  ageF  day  \\\n",
       "0      ...            2   NaN  50.0    0   \n",
       "1      ...            2   NaN  28.0    0   \n",
       "2      ...            0   NaN   NaN    0   \n",
       "3      ...            0   NaN   NaN    0   \n",
       "4      ...            0   NaN   NaN    0   \n",
       "\n",
       "                                       geometry  index_right  BoroCode  \\\n",
       "0           POINT (-73.97136999999999 40.78275)            3         1   \n",
       "1  POINT (-73.99086803197861 40.72923649910006)            3         1   \n",
       "2  POINT (-73.96388769149779 40.77682863439968)            3         1   \n",
       "3  POINT (-73.96388769149779 40.77682863439968)            3         1   \n",
       "4  POINT (-73.96388769149779 40.77682863439968)            3         1   \n",
       "\n",
       "    BoroName    Shape_Area    Shape_Leng  \n",
       "0  Manhattan  6.364422e+08  358532.95642  \n",
       "1  Manhattan  6.364422e+08  358532.95642  \n",
       "2  Manhattan  6.364422e+08  358532.95642  \n",
       "3  Manhattan  6.364422e+08  358532.95642  \n",
       "4  Manhattan  6.364422e+08  358532.95642  \n",
       "\n",
       "[5 rows x 24 columns]"
      ]
     },
     "execution_count": 86,
     "metadata": {},
     "output_type": "execute_result"
    }
   ],
   "source": [
    "joined.head()"
   ]
  },
  {
   "cell_type": "code",
   "execution_count": 88,
   "metadata": {
    "collapsed": true
   },
   "outputs": [],
   "source": [
    "joined[\"age\"] = joined[[\"ageM\", \"ageF\"]].apply(lambda x: x[0] if x[0] else x[1], axis=1)\n",
    "manhattan = joined[joined[\"BoroName\"] == \"Manhattan\"]\n",
    "brooklyn = joined[joined[\"BoroName\"] == \"Brooklyn\"]"
   ]
  },
  {
   "cell_type": "code",
   "execution_count": 90,
   "metadata": {
    "collapsed": false
   },
   "outputs": [],
   "source": [
    "brooklyn_ages = brooklyn[\"age\"].dropna()\n",
    "manhattan_ages = manhattan[\"age\"].dropna()"
   ]
  },
  {
   "cell_type": "code",
   "execution_count": 94,
   "metadata": {
    "collapsed": false
   },
   "outputs": [
    {
     "name": "stdout",
     "output_type": "stream",
     "text": [
      "with a p-value of 0.0, we reject the null hypothesisthat rider ages in brooklyn and rider ages in manhattan are drawn from the same distribution\n"
     ]
    }
   ],
   "source": [
    "scipy.stats.ks_2samp(brooklyn_ages, manhattan_ages)\n",
    "print \"with a p-value of 0.0, we reject the null hypothesis\\\n",
    "that rider ages in brooklyn and rider ages in manhattan are drawn from the same distribution\""
   ]
  },
  {
   "cell_type": "code",
   "execution_count": 97,
   "metadata": {
    "collapsed": false
   },
   "outputs": [
    {
     "data": {
      "text/plain": [
       "(0.99197057981144787, 0.0)"
      ]
     },
     "execution_count": 97,
     "metadata": {},
     "output_type": "execute_result"
    }
   ],
   "source": [
    "manhattan_corr = manhattan_ages.sample(len(brooklyn_ages)).sort_values()\n",
    "brooklyn_corr = brooklyn_ages.sort_values()\n",
    "scipy.stats.pearsonr(manhattan_corr, brooklyn_corr)"
   ]
  },
  {
   "cell_type": "code",
   "execution_count": 98,
   "metadata": {
    "collapsed": false
   },
   "outputs": [
    {
     "data": {
      "text/plain": [
       "SpearmanrResult(correlation=0.99908470257684567, pvalue=0.0)"
      ]
     },
     "execution_count": 98,
     "metadata": {},
     "output_type": "execute_result"
    }
   ],
   "source": [
    "scipy.stats.spearmanr(manhattan_corr, brooklyn_corr)"
   ]
  },
  {
   "cell_type": "code",
   "execution_count": 99,
   "metadata": {
    "collapsed": false
   },
   "outputs": [
    {
     "name": "stdout",
     "output_type": "stream",
     "text": [
      "conclusion: in either case, we reject the null hypothesis that there is no (linear or rank-order) relationship among ages of riders in brooklyn and ages of riders in manhattan\n"
     ]
    }
   ],
   "source": [
    "print \"conclusion: in either case, we reject the null hypothesis that there is no (linear or rank-order) relationship\\\n",
    " among ages of riders in brooklyn and ages of riders in manhattan\""
   ]
  },
  {
   "cell_type": "code",
   "execution_count": null,
   "metadata": {
    "collapsed": true
   },
   "outputs": [],
   "source": []
  }
 ],
 "metadata": {
  "anaconda-cloud": {},
  "kernelspec": {
   "display_name": "Python 2",
   "language": "python",
   "name": "python2"
  },
  "language_info": {
   "codemirror_mode": {
    "name": "ipython",
    "version": 2
   },
   "file_extension": ".py",
   "mimetype": "text/x-python",
   "name": "python",
   "nbconvert_exporter": "python",
   "pygments_lexer": "ipython2",
   "version": "2.7.11"
  },
  "latex_envs": {
   "LaTeX_envs_menu_present": true,
   "bibliofile": "biblio.bib",
   "cite_by": "apalike",
   "current_citInitial": 1,
   "eqLabelWithNumbers": true,
   "eqNumInitial": 1,
   "hotkeys": {
    "equation": "Ctrl-E",
    "itemize": "Ctrl-I"
   },
   "labels_anchors": false,
   "latex_user_defs": false,
   "report_style_numbering": false,
   "user_envs_cfg": false
  },
  "toc": {
   "colors": {
    "hover_highlight": "#DAA520",
    "running_highlight": "#FF0000",
    "selected_highlight": "#FFD700"
   },
   "moveMenuLeft": true,
   "nav_menu": {
    "height": "135px",
    "width": "251px"
   },
   "navigate_menu": true,
   "number_sections": true,
   "sideBar": true,
   "threshold": 4,
   "toc_cell": false,
   "toc_section_display": "block",
   "toc_window_display": false
  }
 },
 "nbformat": 4,
 "nbformat_minor": 0
}
