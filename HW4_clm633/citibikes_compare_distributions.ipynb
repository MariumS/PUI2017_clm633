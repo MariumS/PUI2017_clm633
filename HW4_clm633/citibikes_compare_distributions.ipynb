{
 "cells": [
  {
   "cell_type": "markdown",
   "metadata": {
    "collapsed": true,
    "run_control": {
     "frozen": false,
     "read_only": false
    }
   },
   "source": [
    "# Skeleton of Assignment 4:\n",
    "    test if the distribution of \n",
    "    \n",
    "    1) trip duration of bikers that ride during the day vs night\n",
    "    \n",
    "    2) age of bikers for trips originating in Manhattan and in Brooklyn\n",
    "    \n",
    "    are different. Use 3 tests: KS, Pearson's, Spearman's. \n",
    "    \n",
    "    Use the scipy.stats functions scipy.stats.ks_2samp, scipy.stats.pearsonr, scipy.stats.spearmanr. \n",
    "    \n",
    "    For the KS do the test with the entire dataset and with a subset 200 times smaller\n",
    "    \n",
    "    Choose a single significant threshold for the whole exercise. \n",
    "    \n",
    "    For each test phrase the Null Hypothesis in words.\n",
    "    \n",
    "    Describe the return of the scipy function you use in each case.\n",
    "    \n",
    "    State the result in terms of rejection of the Null."
   ]
  },
  {
   "cell_type": "markdown",
   "metadata": {},
   "source": [
    "# SIGNIFICANCE THRESHOLD: .05"
   ]
  },
  {
   "cell_type": "code",
   "execution_count": 1,
   "metadata": {
    "ExecuteTime": {
     "end_time": "2017-10-05T16:48:06.390950",
     "start_time": "2017-10-05T16:48:04.815178"
    },
    "collapsed": false,
    "run_control": {
     "frozen": false,
     "read_only": false
    },
    "scrolled": true
   },
   "outputs": [
    {
     "name": "stdout",
     "output_type": "stream",
     "text": [
      "Populating the interactive namespace from numpy and matplotlib\n"
     ]
    }
   ],
   "source": [
    "# my usual imports and setups\n",
    "import pylab as pl\n",
    "import pandas as pd\n",
    "import numpy as np\n",
    "\n",
    "%pylab inline\n"
   ]
  },
  {
   "cell_type": "markdown",
   "metadata": {
    "run_control": {
     "frozen": false,
     "read_only": false
    }
   },
   "source": [
    "# Read in data\n",
    "I am reading in data from January 2015 with the function that I created getCitiBikeCSV. You are requested to use 2 months at least. It would be a good idea to use data from a colder and a warmer months, since there are more riders in the warm weather and ridership patterns may change with weather, temperature, etc. You should use data from multiple months, joining multiple datasets (thus addressing some systematic errors as well)"
   ]
  },
  {
   "cell_type": "code",
   "execution_count": 2,
   "metadata": {
    "ExecuteTime": {
     "end_time": "2017-10-05T16:48:09.386484",
     "start_time": "2017-10-05T16:48:06.821336"
    },
    "collapsed": false,
    "run_control": {
     "frozen": false,
     "read_only": false
    }
   },
   "outputs": [],
   "source": [
    "import glob\n",
    "import zipfile\n",
    "\n",
    "import pandas as pd\n",
    "\n",
    "# lightly adapted from something that i wrote: \n",
    "# https://github.com/thedataincubator/practical-ml/blob/master/anomaly/anomaly1.ipynb\n",
    "DIR = \"/gws/open/Student/citibike/\"\n",
    "# ok this is janky but i wanted exactly two months\n",
    "data_2017 = glob.glob(DIR + \"*201701*\") + glob.glob(DIR + \"*201706*\")\n",
    "fs = [open(fname) for fname in data_2017]\n",
    "zfs = [zipfile.ZipFile(f) for f in fs]\n",
    "\n",
    "# NOTE: I should do more and better cleaning.\n",
    "# But I only care about tripduration and gender for this notebook.\n",
    "def parse_csv(zf):\n",
    "    df = pd.read_csv(zf.open(zf.namelist()[0]))\n",
    "    df.columns = df.columns.str.lower().map(lambda x: \"\".join(x.split(\" \")))\n",
    "    if \"trip duration\" in df:\n",
    "        df[\"tripduration\"] = df[\"trip duration\"]\n",
    "        del df[\"trip duration\"]\n",
    "    return df\n",
    "\n",
    "dfs = pd.concat(parse_csv(zf) for zf in zfs).reset_index()\n",
    "[zf.close() for zf in zfs]\n",
    "[f.close() for f in fs]\n",
    "df = dfs"
   ]
  },
  {
   "cell_type": "code",
   "execution_count": 3,
   "metadata": {
    "collapsed": false,
    "run_control": {
     "frozen": false,
     "read_only": false
    }
   },
   "outputs": [
    {
     "data": {
      "text/html": [
       "<div>\n",
       "<style>\n",
       "    .dataframe thead tr:only-child th {\n",
       "        text-align: right;\n",
       "    }\n",
       "\n",
       "    .dataframe thead th {\n",
       "        text-align: left;\n",
       "    }\n",
       "\n",
       "    .dataframe tbody tr th {\n",
       "        vertical-align: top;\n",
       "    }\n",
       "</style>\n",
       "<table border=\"1\" class=\"dataframe\">\n",
       "  <thead>\n",
       "    <tr style=\"text-align: right;\">\n",
       "      <th></th>\n",
       "      <th>index</th>\n",
       "      <th>tripduration</th>\n",
       "      <th>starttime</th>\n",
       "      <th>stoptime</th>\n",
       "      <th>startstationid</th>\n",
       "      <th>startstationname</th>\n",
       "      <th>startstationlatitude</th>\n",
       "      <th>startstationlongitude</th>\n",
       "      <th>endstationid</th>\n",
       "      <th>endstationname</th>\n",
       "      <th>endstationlatitude</th>\n",
       "      <th>endstationlongitude</th>\n",
       "      <th>bikeid</th>\n",
       "      <th>usertype</th>\n",
       "      <th>birthyear</th>\n",
       "      <th>gender</th>\n",
       "    </tr>\n",
       "  </thead>\n",
       "  <tbody>\n",
       "    <tr>\n",
       "      <th>0</th>\n",
       "      <td>0</td>\n",
       "      <td>680</td>\n",
       "      <td>2017-01-01 00:00:21</td>\n",
       "      <td>2017-01-01 00:11:41</td>\n",
       "      <td>3226</td>\n",
       "      <td>W 82 St &amp; Central Park West</td>\n",
       "      <td>40.782750</td>\n",
       "      <td>-73.971370</td>\n",
       "      <td>3165</td>\n",
       "      <td>Central Park West &amp; W 72 St</td>\n",
       "      <td>40.775794</td>\n",
       "      <td>-73.976206</td>\n",
       "      <td>25542</td>\n",
       "      <td>Subscriber</td>\n",
       "      <td>1965.0</td>\n",
       "      <td>2</td>\n",
       "    </tr>\n",
       "    <tr>\n",
       "      <th>1</th>\n",
       "      <td>1</td>\n",
       "      <td>1282</td>\n",
       "      <td>2017-01-01 00:00:45</td>\n",
       "      <td>2017-01-01 00:22:08</td>\n",
       "      <td>3263</td>\n",
       "      <td>Cooper Square &amp; E 7 St</td>\n",
       "      <td>40.729236</td>\n",
       "      <td>-73.990868</td>\n",
       "      <td>498</td>\n",
       "      <td>Broadway &amp; W 32 St</td>\n",
       "      <td>40.748549</td>\n",
       "      <td>-73.988084</td>\n",
       "      <td>21136</td>\n",
       "      <td>Subscriber</td>\n",
       "      <td>1987.0</td>\n",
       "      <td>2</td>\n",
       "    </tr>\n",
       "    <tr>\n",
       "      <th>2</th>\n",
       "      <td>2</td>\n",
       "      <td>648</td>\n",
       "      <td>2017-01-01 00:00:57</td>\n",
       "      <td>2017-01-01 00:11:46</td>\n",
       "      <td>3143</td>\n",
       "      <td>5 Ave &amp; E 78 St</td>\n",
       "      <td>40.776829</td>\n",
       "      <td>-73.963888</td>\n",
       "      <td>3152</td>\n",
       "      <td>3 Ave &amp; E 71 St</td>\n",
       "      <td>40.768737</td>\n",
       "      <td>-73.961199</td>\n",
       "      <td>18147</td>\n",
       "      <td>Customer</td>\n",
       "      <td>NaN</td>\n",
       "      <td>0</td>\n",
       "    </tr>\n",
       "    <tr>\n",
       "      <th>3</th>\n",
       "      <td>3</td>\n",
       "      <td>631</td>\n",
       "      <td>2017-01-01 00:01:10</td>\n",
       "      <td>2017-01-01 00:11:42</td>\n",
       "      <td>3143</td>\n",
       "      <td>5 Ave &amp; E 78 St</td>\n",
       "      <td>40.776829</td>\n",
       "      <td>-73.963888</td>\n",
       "      <td>3152</td>\n",
       "      <td>3 Ave &amp; E 71 St</td>\n",
       "      <td>40.768737</td>\n",
       "      <td>-73.961199</td>\n",
       "      <td>21211</td>\n",
       "      <td>Customer</td>\n",
       "      <td>NaN</td>\n",
       "      <td>0</td>\n",
       "    </tr>\n",
       "    <tr>\n",
       "      <th>4</th>\n",
       "      <td>4</td>\n",
       "      <td>621</td>\n",
       "      <td>2017-01-01 00:01:25</td>\n",
       "      <td>2017-01-01 00:11:47</td>\n",
       "      <td>3143</td>\n",
       "      <td>5 Ave &amp; E 78 St</td>\n",
       "      <td>40.776829</td>\n",
       "      <td>-73.963888</td>\n",
       "      <td>3152</td>\n",
       "      <td>3 Ave &amp; E 71 St</td>\n",
       "      <td>40.768737</td>\n",
       "      <td>-73.961199</td>\n",
       "      <td>26819</td>\n",
       "      <td>Customer</td>\n",
       "      <td>NaN</td>\n",
       "      <td>0</td>\n",
       "    </tr>\n",
       "  </tbody>\n",
       "</table>\n",
       "</div>"
      ],
      "text/plain": [
       "   index  tripduration            starttime             stoptime  \\\n",
       "0      0           680  2017-01-01 00:00:21  2017-01-01 00:11:41   \n",
       "1      1          1282  2017-01-01 00:00:45  2017-01-01 00:22:08   \n",
       "2      2           648  2017-01-01 00:00:57  2017-01-01 00:11:46   \n",
       "3      3           631  2017-01-01 00:01:10  2017-01-01 00:11:42   \n",
       "4      4           621  2017-01-01 00:01:25  2017-01-01 00:11:47   \n",
       "\n",
       "   startstationid             startstationname  startstationlatitude  \\\n",
       "0            3226  W 82 St & Central Park West             40.782750   \n",
       "1            3263       Cooper Square & E 7 St             40.729236   \n",
       "2            3143              5 Ave & E 78 St             40.776829   \n",
       "3            3143              5 Ave & E 78 St             40.776829   \n",
       "4            3143              5 Ave & E 78 St             40.776829   \n",
       "\n",
       "   startstationlongitude  endstationid               endstationname  \\\n",
       "0             -73.971370          3165  Central Park West & W 72 St   \n",
       "1             -73.990868           498           Broadway & W 32 St   \n",
       "2             -73.963888          3152              3 Ave & E 71 St   \n",
       "3             -73.963888          3152              3 Ave & E 71 St   \n",
       "4             -73.963888          3152              3 Ave & E 71 St   \n",
       "\n",
       "   endstationlatitude  endstationlongitude  bikeid    usertype  birthyear  \\\n",
       "0           40.775794           -73.976206   25542  Subscriber     1965.0   \n",
       "1           40.748549           -73.988084   21136  Subscriber     1987.0   \n",
       "2           40.768737           -73.961199   18147    Customer        NaN   \n",
       "3           40.768737           -73.961199   21211    Customer        NaN   \n",
       "4           40.768737           -73.961199   26819    Customer        NaN   \n",
       "\n",
       "   gender  \n",
       "0       2  \n",
       "1       2  \n",
       "2       0  \n",
       "3       0  \n",
       "4       0  "
      ]
     },
     "execution_count": 3,
     "metadata": {},
     "output_type": "execute_result"
    }
   ],
   "source": [
    "df.head()"
   ]
  },
  {
   "cell_type": "markdown",
   "metadata": {
    "run_control": {
     "frozen": false,
     "read_only": false
    }
   },
   "source": [
    "# SPLIT BY CATEGORY\n",
    "\n",
    "as an example I am splitting data by gender and looking at age or riders:\n",
    "\n",
    "**H0: there is no statistical difference in the age distribution of male and female riders**\n",
    "$$ \\alpha = 0.05 $$\n",
    "\n",
    "extracting the age happens in the cell below"
   ]
  },
  {
   "cell_type": "code",
   "execution_count": 4,
   "metadata": {
    "ExecuteTime": {
     "end_time": "2017-10-05T16:51:52.357332",
     "start_time": "2017-10-05T16:51:52.017199"
    },
    "collapsed": false,
    "run_control": {
     "frozen": false,
     "read_only": false
    }
   },
   "outputs": [],
   "source": [
    "#df is the dataframe where the content of the csv file is stored\n",
    "df['ageM'] = 2015 - df['birthyear'][(df['usertype'] == 'Subscriber') & (df['gender'] == 1)]\n",
    "df['ageF'] = 2015 - df['birthyear'][(df['usertype'] == 'Subscriber') & (df['gender'] == 2)]"
   ]
  },
  {
   "cell_type": "code",
   "execution_count": 5,
   "metadata": {
    "collapsed": false,
    "run_control": {
     "frozen": false,
     "read_only": false
    }
   },
   "outputs": [
    {
     "data": {
      "text/html": [
       "<div>\n",
       "<style>\n",
       "    .dataframe thead tr:only-child th {\n",
       "        text-align: right;\n",
       "    }\n",
       "\n",
       "    .dataframe thead th {\n",
       "        text-align: left;\n",
       "    }\n",
       "\n",
       "    .dataframe tbody tr th {\n",
       "        vertical-align: top;\n",
       "    }\n",
       "</style>\n",
       "<table border=\"1\" class=\"dataframe\">\n",
       "  <thead>\n",
       "    <tr style=\"text-align: right;\">\n",
       "      <th></th>\n",
       "      <th>index</th>\n",
       "      <th>tripduration</th>\n",
       "      <th>starttime</th>\n",
       "      <th>stoptime</th>\n",
       "      <th>startstationid</th>\n",
       "      <th>startstationname</th>\n",
       "      <th>startstationlatitude</th>\n",
       "      <th>startstationlongitude</th>\n",
       "      <th>endstationid</th>\n",
       "      <th>endstationname</th>\n",
       "      <th>endstationlatitude</th>\n",
       "      <th>endstationlongitude</th>\n",
       "      <th>bikeid</th>\n",
       "      <th>usertype</th>\n",
       "      <th>birthyear</th>\n",
       "      <th>gender</th>\n",
       "      <th>ageM</th>\n",
       "      <th>ageF</th>\n",
       "    </tr>\n",
       "  </thead>\n",
       "  <tbody>\n",
       "    <tr>\n",
       "      <th>0</th>\n",
       "      <td>0</td>\n",
       "      <td>680</td>\n",
       "      <td>2017-01-01 00:00:21</td>\n",
       "      <td>2017-01-01 00:11:41</td>\n",
       "      <td>3226</td>\n",
       "      <td>W 82 St &amp; Central Park West</td>\n",
       "      <td>40.782750</td>\n",
       "      <td>-73.971370</td>\n",
       "      <td>3165</td>\n",
       "      <td>Central Park West &amp; W 72 St</td>\n",
       "      <td>40.775794</td>\n",
       "      <td>-73.976206</td>\n",
       "      <td>25542</td>\n",
       "      <td>Subscriber</td>\n",
       "      <td>1965.0</td>\n",
       "      <td>2</td>\n",
       "      <td>NaN</td>\n",
       "      <td>50.0</td>\n",
       "    </tr>\n",
       "    <tr>\n",
       "      <th>1</th>\n",
       "      <td>1</td>\n",
       "      <td>1282</td>\n",
       "      <td>2017-01-01 00:00:45</td>\n",
       "      <td>2017-01-01 00:22:08</td>\n",
       "      <td>3263</td>\n",
       "      <td>Cooper Square &amp; E 7 St</td>\n",
       "      <td>40.729236</td>\n",
       "      <td>-73.990868</td>\n",
       "      <td>498</td>\n",
       "      <td>Broadway &amp; W 32 St</td>\n",
       "      <td>40.748549</td>\n",
       "      <td>-73.988084</td>\n",
       "      <td>21136</td>\n",
       "      <td>Subscriber</td>\n",
       "      <td>1987.0</td>\n",
       "      <td>2</td>\n",
       "      <td>NaN</td>\n",
       "      <td>28.0</td>\n",
       "    </tr>\n",
       "    <tr>\n",
       "      <th>2</th>\n",
       "      <td>2</td>\n",
       "      <td>648</td>\n",
       "      <td>2017-01-01 00:00:57</td>\n",
       "      <td>2017-01-01 00:11:46</td>\n",
       "      <td>3143</td>\n",
       "      <td>5 Ave &amp; E 78 St</td>\n",
       "      <td>40.776829</td>\n",
       "      <td>-73.963888</td>\n",
       "      <td>3152</td>\n",
       "      <td>3 Ave &amp; E 71 St</td>\n",
       "      <td>40.768737</td>\n",
       "      <td>-73.961199</td>\n",
       "      <td>18147</td>\n",
       "      <td>Customer</td>\n",
       "      <td>NaN</td>\n",
       "      <td>0</td>\n",
       "      <td>NaN</td>\n",
       "      <td>NaN</td>\n",
       "    </tr>\n",
       "    <tr>\n",
       "      <th>3</th>\n",
       "      <td>3</td>\n",
       "      <td>631</td>\n",
       "      <td>2017-01-01 00:01:10</td>\n",
       "      <td>2017-01-01 00:11:42</td>\n",
       "      <td>3143</td>\n",
       "      <td>5 Ave &amp; E 78 St</td>\n",
       "      <td>40.776829</td>\n",
       "      <td>-73.963888</td>\n",
       "      <td>3152</td>\n",
       "      <td>3 Ave &amp; E 71 St</td>\n",
       "      <td>40.768737</td>\n",
       "      <td>-73.961199</td>\n",
       "      <td>21211</td>\n",
       "      <td>Customer</td>\n",
       "      <td>NaN</td>\n",
       "      <td>0</td>\n",
       "      <td>NaN</td>\n",
       "      <td>NaN</td>\n",
       "    </tr>\n",
       "    <tr>\n",
       "      <th>4</th>\n",
       "      <td>4</td>\n",
       "      <td>621</td>\n",
       "      <td>2017-01-01 00:01:25</td>\n",
       "      <td>2017-01-01 00:11:47</td>\n",
       "      <td>3143</td>\n",
       "      <td>5 Ave &amp; E 78 St</td>\n",
       "      <td>40.776829</td>\n",
       "      <td>-73.963888</td>\n",
       "      <td>3152</td>\n",
       "      <td>3 Ave &amp; E 71 St</td>\n",
       "      <td>40.768737</td>\n",
       "      <td>-73.961199</td>\n",
       "      <td>26819</td>\n",
       "      <td>Customer</td>\n",
       "      <td>NaN</td>\n",
       "      <td>0</td>\n",
       "      <td>NaN</td>\n",
       "      <td>NaN</td>\n",
       "    </tr>\n",
       "  </tbody>\n",
       "</table>\n",
       "</div>"
      ],
      "text/plain": [
       "   index  tripduration            starttime             stoptime  \\\n",
       "0      0           680  2017-01-01 00:00:21  2017-01-01 00:11:41   \n",
       "1      1          1282  2017-01-01 00:00:45  2017-01-01 00:22:08   \n",
       "2      2           648  2017-01-01 00:00:57  2017-01-01 00:11:46   \n",
       "3      3           631  2017-01-01 00:01:10  2017-01-01 00:11:42   \n",
       "4      4           621  2017-01-01 00:01:25  2017-01-01 00:11:47   \n",
       "\n",
       "   startstationid             startstationname  startstationlatitude  \\\n",
       "0            3226  W 82 St & Central Park West             40.782750   \n",
       "1            3263       Cooper Square & E 7 St             40.729236   \n",
       "2            3143              5 Ave & E 78 St             40.776829   \n",
       "3            3143              5 Ave & E 78 St             40.776829   \n",
       "4            3143              5 Ave & E 78 St             40.776829   \n",
       "\n",
       "   startstationlongitude  endstationid               endstationname  \\\n",
       "0             -73.971370          3165  Central Park West & W 72 St   \n",
       "1             -73.990868           498           Broadway & W 32 St   \n",
       "2             -73.963888          3152              3 Ave & E 71 St   \n",
       "3             -73.963888          3152              3 Ave & E 71 St   \n",
       "4             -73.963888          3152              3 Ave & E 71 St   \n",
       "\n",
       "   endstationlatitude  endstationlongitude  bikeid    usertype  birthyear  \\\n",
       "0           40.775794           -73.976206   25542  Subscriber     1965.0   \n",
       "1           40.748549           -73.988084   21136  Subscriber     1987.0   \n",
       "2           40.768737           -73.961199   18147    Customer        NaN   \n",
       "3           40.768737           -73.961199   21211    Customer        NaN   \n",
       "4           40.768737           -73.961199   26819    Customer        NaN   \n",
       "\n",
       "   gender  ageM  ageF  \n",
       "0       2   NaN  50.0  \n",
       "1       2   NaN  28.0  \n",
       "2       0   NaN   NaN  \n",
       "3       0   NaN   NaN  \n",
       "4       0   NaN   NaN  "
      ]
     },
     "execution_count": 5,
     "metadata": {},
     "output_type": "execute_result"
    }
   ],
   "source": [
    "#dropping some data I no longer need\n",
    "#... your code here...\n",
    "df.head()"
   ]
  },
  {
   "cell_type": "code",
   "execution_count": 6,
   "metadata": {
    "ExecuteTime": {
     "end_time": "2017-10-05T16:55:03.392271",
     "start_time": "2017-10-05T16:55:02.902521"
    },
    "collapsed": false,
    "run_control": {
     "frozen": false,
     "read_only": false
    }
   },
   "outputs": [
    {
     "data": {
      "text/html": [
       "<div>\n",
       "<style>\n",
       "    .dataframe thead tr:only-child th {\n",
       "        text-align: right;\n",
       "    }\n",
       "\n",
       "    .dataframe thead th {\n",
       "        text-align: left;\n",
       "    }\n",
       "\n",
       "    .dataframe tbody tr th {\n",
       "        vertical-align: top;\n",
       "    }\n",
       "</style>\n",
       "<table border=\"1\" class=\"dataframe\">\n",
       "  <thead>\n",
       "    <tr style=\"text-align: right;\">\n",
       "      <th></th>\n",
       "      <th>index</th>\n",
       "      <th>tripduration</th>\n",
       "      <th>startstationid</th>\n",
       "      <th>startstationlatitude</th>\n",
       "      <th>startstationlongitude</th>\n",
       "      <th>endstationid</th>\n",
       "      <th>endstationlatitude</th>\n",
       "      <th>endstationlongitude</th>\n",
       "      <th>bikeid</th>\n",
       "      <th>birthyear</th>\n",
       "      <th>gender</th>\n",
       "      <th>ageM</th>\n",
       "      <th>ageF</th>\n",
       "    </tr>\n",
       "  </thead>\n",
       "  <tbody>\n",
       "    <tr>\n",
       "      <th>count</th>\n",
       "      <td>2.458270e+06</td>\n",
       "      <td>2.458270e+06</td>\n",
       "      <td>2.458270e+06</td>\n",
       "      <td>2.458270e+06</td>\n",
       "      <td>2.458270e+06</td>\n",
       "      <td>2.458270e+06</td>\n",
       "      <td>2.458270e+06</td>\n",
       "      <td>2.458270e+06</td>\n",
       "      <td>2.458270e+06</td>\n",
       "      <td>2.236762e+06</td>\n",
       "      <td>2.458270e+06</td>\n",
       "      <td>1.647865e+06</td>\n",
       "      <td>539722.000000</td>\n",
       "    </tr>\n",
       "    <tr>\n",
       "      <th>mean</th>\n",
       "      <td>7.172673e+05</td>\n",
       "      <td>9.856446e+02</td>\n",
       "      <td>1.303910e+03</td>\n",
       "      <td>4.073637e+01</td>\n",
       "      <td>-7.398504e+01</td>\n",
       "      <td>1.293466e+03</td>\n",
       "      <td>4.073608e+01</td>\n",
       "      <td>-7.398520e+01</td>\n",
       "      <td>2.254599e+04</td>\n",
       "      <td>1.978336e+03</td>\n",
       "      <td>1.131800e+00</td>\n",
       "      <td>3.708664e+01</td>\n",
       "      <td>35.725850</td>\n",
       "    </tr>\n",
       "    <tr>\n",
       "      <th>std</th>\n",
       "      <td>4.915109e+05</td>\n",
       "      <td>1.395856e+04</td>\n",
       "      <td>1.321400e+03</td>\n",
       "      <td>5.887212e-02</td>\n",
       "      <td>9.586130e-02</td>\n",
       "      <td>1.317820e+03</td>\n",
       "      <td>6.428431e-02</td>\n",
       "      <td>1.068508e-01</td>\n",
       "      <td>4.746720e+03</td>\n",
       "      <td>1.176049e+01</td>\n",
       "      <td>5.493198e-01</td>\n",
       "      <td>1.175099e+01</td>\n",
       "      <td>11.640462</td>\n",
       "    </tr>\n",
       "    <tr>\n",
       "      <th>min</th>\n",
       "      <td>0.000000e+00</td>\n",
       "      <td>6.100000e+01</td>\n",
       "      <td>7.200000e+01</td>\n",
       "      <td>0.000000e+00</td>\n",
       "      <td>-7.403137e+01</td>\n",
       "      <td>7.200000e+01</td>\n",
       "      <td>0.000000e+00</td>\n",
       "      <td>-7.404773e+01</td>\n",
       "      <td>1.452900e+04</td>\n",
       "      <td>1.885000e+03</td>\n",
       "      <td>0.000000e+00</td>\n",
       "      <td>1.400000e+01</td>\n",
       "      <td>14.000000</td>\n",
       "    </tr>\n",
       "    <tr>\n",
       "      <th>25%</th>\n",
       "      <td>3.072832e+05</td>\n",
       "      <td>3.700000e+02</td>\n",
       "      <td>3.580000e+02</td>\n",
       "      <td>4.071882e+01</td>\n",
       "      <td>-7.399692e+01</td>\n",
       "      <td>3.580000e+02</td>\n",
       "      <td>4.071871e+01</td>\n",
       "      <td>-7.399705e+01</td>\n",
       "      <td>1.812100e+04</td>\n",
       "      <td>1.970000e+03</td>\n",
       "      <td>1.000000e+00</td>\n",
       "      <td>2.800000e+01</td>\n",
       "      <td>27.000000</td>\n",
       "    </tr>\n",
       "    <tr>\n",
       "      <th>50%</th>\n",
       "      <td>6.145670e+05</td>\n",
       "      <td>6.140000e+02</td>\n",
       "      <td>4.830000e+02</td>\n",
       "      <td>4.073726e+01</td>\n",
       "      <td>-7.398765e+01</td>\n",
       "      <td>4.820000e+02</td>\n",
       "      <td>4.073705e+01</td>\n",
       "      <td>-7.398775e+01</td>\n",
       "      <td>2.287500e+04</td>\n",
       "      <td>1.981000e+03</td>\n",
       "      <td>1.000000e+00</td>\n",
       "      <td>3.500000e+01</td>\n",
       "      <td>32.000000</td>\n",
       "    </tr>\n",
       "    <tr>\n",
       "      <th>75%</th>\n",
       "      <td>1.117026e+06</td>\n",
       "      <td>1.059000e+03</td>\n",
       "      <td>3.127000e+03</td>\n",
       "      <td>4.075514e+01</td>\n",
       "      <td>-7.397632e+01</td>\n",
       "      <td>3.119000e+03</td>\n",
       "      <td>4.075510e+01</td>\n",
       "      <td>-7.397634e+01</td>\n",
       "      <td>2.688100e+04</td>\n",
       "      <td>1.988000e+03</td>\n",
       "      <td>1.000000e+00</td>\n",
       "      <td>4.500000e+01</td>\n",
       "      <td>44.000000</td>\n",
       "    </tr>\n",
       "    <tr>\n",
       "      <th>max</th>\n",
       "      <td>1.731593e+06</td>\n",
       "      <td>5.325688e+06</td>\n",
       "      <td>3.474000e+03</td>\n",
       "      <td>4.088092e+01</td>\n",
       "      <td>0.000000e+00</td>\n",
       "      <td>3.474000e+03</td>\n",
       "      <td>4.088092e+01</td>\n",
       "      <td>0.000000e+00</td>\n",
       "      <td>2.983400e+04</td>\n",
       "      <td>2.001000e+03</td>\n",
       "      <td>2.000000e+00</td>\n",
       "      <td>1.300000e+02</td>\n",
       "      <td>122.000000</td>\n",
       "    </tr>\n",
       "  </tbody>\n",
       "</table>\n",
       "</div>"
      ],
      "text/plain": [
       "              index  tripduration  startstationid  startstationlatitude  \\\n",
       "count  2.458270e+06  2.458270e+06    2.458270e+06          2.458270e+06   \n",
       "mean   7.172673e+05  9.856446e+02    1.303910e+03          4.073637e+01   \n",
       "std    4.915109e+05  1.395856e+04    1.321400e+03          5.887212e-02   \n",
       "min    0.000000e+00  6.100000e+01    7.200000e+01          0.000000e+00   \n",
       "25%    3.072832e+05  3.700000e+02    3.580000e+02          4.071882e+01   \n",
       "50%    6.145670e+05  6.140000e+02    4.830000e+02          4.073726e+01   \n",
       "75%    1.117026e+06  1.059000e+03    3.127000e+03          4.075514e+01   \n",
       "max    1.731593e+06  5.325688e+06    3.474000e+03          4.088092e+01   \n",
       "\n",
       "       startstationlongitude  endstationid  endstationlatitude  \\\n",
       "count           2.458270e+06  2.458270e+06        2.458270e+06   \n",
       "mean           -7.398504e+01  1.293466e+03        4.073608e+01   \n",
       "std             9.586130e-02  1.317820e+03        6.428431e-02   \n",
       "min            -7.403137e+01  7.200000e+01        0.000000e+00   \n",
       "25%            -7.399692e+01  3.580000e+02        4.071871e+01   \n",
       "50%            -7.398765e+01  4.820000e+02        4.073705e+01   \n",
       "75%            -7.397632e+01  3.119000e+03        4.075510e+01   \n",
       "max             0.000000e+00  3.474000e+03        4.088092e+01   \n",
       "\n",
       "       endstationlongitude        bikeid     birthyear        gender  \\\n",
       "count         2.458270e+06  2.458270e+06  2.236762e+06  2.458270e+06   \n",
       "mean         -7.398520e+01  2.254599e+04  1.978336e+03  1.131800e+00   \n",
       "std           1.068508e-01  4.746720e+03  1.176049e+01  5.493198e-01   \n",
       "min          -7.404773e+01  1.452900e+04  1.885000e+03  0.000000e+00   \n",
       "25%          -7.399705e+01  1.812100e+04  1.970000e+03  1.000000e+00   \n",
       "50%          -7.398775e+01  2.287500e+04  1.981000e+03  1.000000e+00   \n",
       "75%          -7.397634e+01  2.688100e+04  1.988000e+03  1.000000e+00   \n",
       "max           0.000000e+00  2.983400e+04  2.001000e+03  2.000000e+00   \n",
       "\n",
       "               ageM           ageF  \n",
       "count  1.647865e+06  539722.000000  \n",
       "mean   3.708664e+01      35.725850  \n",
       "std    1.175099e+01      11.640462  \n",
       "min    1.400000e+01      14.000000  \n",
       "25%    2.800000e+01      27.000000  \n",
       "50%    3.500000e+01      32.000000  \n",
       "75%    4.500000e+01      44.000000  \n",
       "max    1.300000e+02     122.000000  "
      ]
     },
     "execution_count": 6,
     "metadata": {},
     "output_type": "execute_result"
    }
   ],
   "source": [
    "#your df should look something like this\n",
    "# look at these data carefully... you may see someinteresting values!\n",
    "df.describe()"
   ]
  },
  {
   "cell_type": "code",
   "execution_count": 7,
   "metadata": {
    "ExecuteTime": {
     "end_time": "2017-10-05T16:55:05.649685",
     "start_time": "2017-10-05T16:55:05.635796"
    },
    "collapsed": false,
    "run_control": {
     "frozen": false,
     "read_only": false
    }
   },
   "outputs": [],
   "source": [
    "# dropping NaN values\n",
    "df['ageM'].dropna(inplace= True)\n",
    "df['ageF'].dropna(inplace= True)"
   ]
  },
  {
   "cell_type": "markdown",
   "metadata": {
    "run_control": {
     "frozen": false,
     "read_only": false
    }
   },
   "source": [
    "lets split age in 10 year bins. the dataset is very large, so i could be split in smaller bins, but I will chose 10 years in the interest of time. \n",
    "the bin size choice should be a balance between properly sample the age space, have enough counts in each bin that the statistical noise is not significant (remember that is > sqrt(N)!) and the computational requirement to computatinal facilities ratio. "
   ]
  },
  {
   "cell_type": "markdown",
   "metadata": {
    "run_control": {
     "frozen": false,
     "read_only": false
    }
   },
   "source": [
    "the next several steps are needed if you want to code up the KS test from scratch. that is for extra credit, so if you do not want to do it you may not need to plot split the distribution in bins and create the cumulative HOWEVER it is a great idea to do it anyways to explore your data viaually! remember Ascombe's quartet!!"
   ]
  },
  {
   "cell_type": "code",
   "execution_count": 8,
   "metadata": {
    "ExecuteTime": {
     "end_time": "2017-10-05T16:55:21.602238",
     "start_time": "2017-10-05T16:55:20.487384"
    },
    "collapsed": false,
    "run_control": {
     "frozen": false,
     "read_only": false
    }
   },
   "outputs": [
    {
     "data": {
      "image/png": "[encoded data removed]",
      "text/plain": [
       "<matplotlib.figure.Figure at 0x7fb0e27a0dd0>"
      ]
     },
     "metadata": {},
     "output_type": "display_data"
    },
    {
     "data": {
      "image/png": "[encoded data removed]",
      "text/plain": [
       "<matplotlib.figure.Figure at 0x7fb0e263f910>"
      ]
     },
     "metadata": {},
     "output_type": "display_data"
    }
   ],
   "source": [
    "# plotting histogramswith pandas is a bitdifferent than with pylab\n",
    "# this is a VERY USEFUL syntaxfor you to knonw!\n",
    "bins = np.arange(10, 99, 5)\n",
    "axM = df.ageM.groupby(pd.cut(df.ageM, bins)).agg([count_nonzero]).plot(kind='bar', \n",
    "                                                                legend=False)\n",
    "axM.set_title(\"male riders\")\n",
    "axF = df.ageF.groupby(pd.cut(df.ageF, bins)).agg([count_nonzero]).plot(kind='bar',\n",
    "                                                                legend=False)\n",
    "axF.set_title(\"female riders\");\n"
   ]
  },
  {
   "cell_type": "markdown",
   "metadata": {
    "run_control": {
     "frozen": false,
     "read_only": false
    }
   },
   "source": [
    "**Figure 1: histogrammed distribution of riders' ages by gender **\n",
    "here is where you should have a nice caption that describes what I am looking at, why I am looking at it, and what I should notice"
   ]
  },
  {
   "cell_type": "markdown",
   "metadata": {
    "run_control": {
     "frozen": false,
     "read_only": false
    }
   },
   "source": [
    "this is how the cumulative distributions look like.  Notice that i am normalizing them! if i want to reat an observed distribution like a probablility distribution i have to normalize it"
   ]
  },
  {
   "cell_type": "code",
   "execution_count": 9,
   "metadata": {
    "collapsed": false,
    "run_control": {
     "frozen": false,
     "read_only": false
    },
    "scrolled": false
   },
   "outputs": [
    {
     "name": "stdout",
     "output_type": "stream",
     "text": [
      "          count_nonzero\n",
      "ageM                   \n",
      "(10, 15]       0.001066\n",
      "(15, 20]       0.001709\n",
      "(20, 25]       0.039156\n",
      "(25, 30]       0.072471\n",
      "(30, 35]       0.061720\n",
      "(35, 40]       0.038746\n",
      "(40, 45]       0.018770\n",
      "(45, 50]       0.017443\n",
      "(50, 55]       0.011803\n",
      "(55, 60]       0.007797\n",
      "(60, 65]       0.003893\n",
      "(65, 70]       0.000586\n",
      "(70, 75]       0.000173\n",
      "(75, 80]       0.000353\n",
      "(80, 85]       0.000039\n",
      "(85, 90]       0.000102\n",
      "(90, 95]       0.000000\n"
     ]
    },
    {
     "name": "stderr",
     "output_type": "stream",
     "text": [
      "/opt/rh/anaconda/root/lib/python2.7/site-packages/ipykernel/__main__.py:11: RuntimeWarning: invalid value encountered in sqrt\n"
     ]
    },
    {
     "data": {
      "text/plain": [
       "<matplotlib.legend.Legend at 0x7fb0e244ef90>"
      ]
     },
     "execution_count": 9,
     "metadata": {},
     "output_type": "execute_result"
    },
    {
     "data": {
      "image/png": "[encoded data removed]",
      "text/plain": [
       "<matplotlib.figure.Figure at 0x7fb0e24c9090>"
      ]
     },
     "metadata": {},
     "output_type": "display_data"
    }
   ],
   "source": [
    "#print df.ageS, df.ageS.cumsum()\n",
    "\n",
    "csM=df.ageM.groupby(pd.cut(df.ageM, bins)).agg([count_nonzero]).cumsum()\n",
    "\n",
    "csF=df.ageF.groupby(pd.cut(df.ageF, bins)).agg([count_nonzero]).cumsum()\n",
    "\n",
    "print (np.abs(csM / csM.max()-csF / csF.max()))\n",
    "\n",
    "pl.plot(bins[:-1] + 5, csM / csM.max(), label = \"M\")\n",
    "pl.plot(bins[:-1] + 5, csF / csF.max(), label = \"F\")\n",
    "pl.plot(bins[:-1] + 5, np.sqrt(csF / csF.max() - csM / csM.max())**2, 'k-',\n",
    "        label = \"difference\")\n",
    "pl.xlabel(\"Age\")\n",
    "pl.ylabel(\"Normalized Cumulative Number\")\n",
    "pl.legend()"
   ]
  },
  {
   "cell_type": "markdown",
   "metadata": {
    "run_control": {
     "frozen": false,
     "read_only": false
    }
   },
   "source": [
    "** Figure 2: the cumulative distribution of CitiBike riders' ages by gender** ... [a good caption here]"
   ]
  },
  {
   "cell_type": "markdown",
   "metadata": {
    "run_control": {
     "frozen": false,
     "read_only": false
    }
   },
   "source": [
    "They look similar! But the difference gets to 10%. If I wanted to code the KS test by hand I woud have everything I need: the normalized cumulative distributions can be subtracted from each other and the max distance can calculated. \n",
    "\n",
    "Notice that there may be NaN values you are gonna have to deal with! \n",
    "You can do that for example with a Boolean statementsuch as  df.ageF[~np.isnan(df.ageF)] or you can use numpy functions that deal with Nan values: nansum, nanmean, nanstd..."
   ]
  },
  {
   "cell_type": "markdown",
   "metadata": {
    "run_control": {
     "frozen": false,
     "read_only": false
    }
   },
   "source": [
    "lets run the scipy KS test"
   ]
  },
  {
   "cell_type": "code",
   "execution_count": 10,
   "metadata": {
    "ExecuteTime": {
     "end_time": "2017-10-05T16:58:02.949986",
     "start_time": "2017-10-05T16:58:02.443596"
    },
    "collapsed": false,
    "run_control": {
     "frozen": false,
     "read_only": false
    },
    "scrolled": false
   },
   "outputs": [],
   "source": [
    "import scipy.stats\n",
    "#remember that your imports should all be at the top. I leave it here to hightlight that this package is needed at this point of the workflow"
   ]
  },
  {
   "cell_type": "markdown",
   "metadata": {
    "collapsed": true,
    "run_control": {
     "frozen": false,
     "read_only": false
    }
   },
   "source": [
    "# KS tests to compare 2 samples\n",
    "\n",
    "http://docs.scipy.org/doc/scipy-0.15.1/reference/generated/scipy.stats.ks_2samp.html\n",
    "\n",
    "the KS test in scipy returns the p-value BUT make sure you understand what the NULL is! read the documentation carefully! what is the null hypothesis that you can/cannot reject?"
   ]
  },
  {
   "cell_type": "code",
   "execution_count": 11,
   "metadata": {
    "ExecuteTime": {
     "end_time": "2017-10-05T16:58:13.968035",
     "start_time": "2017-10-05T16:58:13.899033"
    },
    "collapsed": false,
    "run_control": {
     "frozen": false,
     "read_only": false
    }
   },
   "outputs": [
    {
     "name": "stdout",
     "output_type": "stream",
     "text": [
      "Ks_2sampResult(statistic=0.07282796120842161, pvalue=0.0)\n"
     ]
    }
   ],
   "source": [
    "ks = scipy.stats.ks_2samp(df.ageM, df.ageF)\n",
    "print (ks)"
   ]
  },
  {
   "cell_type": "markdown",
   "metadata": {
    "run_control": {
     "frozen": false,
     "read_only": false
    }
   },
   "source": [
    "**  FILL IN THE CELL BELOW!**"
   ]
  },
  {
   "cell_type": "raw",
   "metadata": {
    "ExecuteTime": {
     "end_time": "2017-10-05T16:58:24.751556",
     "start_time": "2017-10-05T16:58:24.747653"
    },
    "collapsed": true,
    "run_control": {
     "frozen": false,
     "read_only": false
    }
   },
   "source": [
    "## your words here!...\n",
    "## this cell is for you to tell me what the scipy KS test returned and what it means in terms of NULL HYPOTHESIS\n",
    "## to do that refer to the scipy documentation to understand the output of the scipy.stats.ks_2samp function\n",
    "\n",
    "The null hypothesis is that these two samples (age of males and age of females) \n",
    "are drawn from the same continuous distribution. So we reject the null hypothesis that these are drawn from\n",
    "the same distribution, and conclude they are drawn from different underlying distributions."
   ]
  },
  {
   "cell_type": "markdown",
   "metadata": {
    "run_control": {
     "frozen": false,
     "read_only": false
    }
   },
   "source": [
    "The scipy.stats KS test already tells me the significance and the p-value. \n",
    "\n",
    "The next few cells are here just to show you how you would obtain the same result by hand, but they are **not required**. \n",
    "\n",
    "Remember: the Null hypothesis is rejected if \n",
    "\n",
    "$D_KS(n1,n2) > c(\\alpha) \\sqrt{\\frac{(n1 + n2)}{n1n2}}$\n",
    "\n",
    "(see class notes) where $c(\\alpha$) is the inverse of the KS distribution, and you do not have to know how to get that cause there are tables that list critical values!! \n",
    "\n",
    "http://www.real-statistics.com/tests-normality-and-symmetry/statistical-tests-normality-symmetry/kolmogorov-smirnov-test/kolmogorov-distribution/\n",
    "\n",
    "But also this result depends in your choice of binning through, and thustheresultyou get by hand may not be exactly the same as the one the KS returns. Either way: this is how you would calculate the KS statistics by hand."
   ]
  },
  {
   "cell_type": "code",
   "execution_count": 13,
   "metadata": {
    "ExecuteTime": {
     "end_time": "2017-10-05T16:58:33.858841",
     "start_time": "2017-10-05T16:58:33.850240"
    },
    "collapsed": false,
    "run_control": {
     "frozen": false,
     "read_only": false
    }
   },
   "outputs": [],
   "source": [
    "#here is the critical values tablel. Have you chosen your significance level yet?? you should do it first thing!\n",
    "from IPython.display import Image\n",
    "# Image(filename=\"../plotsforclasses/ks2sample_table.png\")"
   ]
  },
  {
   "cell_type": "code",
   "execution_count": 14,
   "metadata": {
    "ExecuteTime": {
     "end_time": "2017-10-05T16:58:45.489436",
     "start_time": "2017-10-05T16:58:45.483526"
    },
    "collapsed": true,
    "run_control": {
     "frozen": false,
     "read_only": false
    }
   },
   "outputs": [],
   "source": [
    "## your words here!...\n",
    "## this cell is for you to redo the test with reducted dataset \n",
    "## and tell me what the scipy ks test returned and what it means in terms of NULL HYPOTHESIS\n"
   ]
  },
  {
   "cell_type": "markdown",
   "metadata": {
    "run_control": {
     "frozen": false,
     "read_only": false
    }
   },
   "source": [
    "# Now retest using a test for correlation. \n",
    "\n",
    "That will answer a slightly different question though - formulate the NULL appropriately. The tests for correlations (generally) requires the variable to be paired, so that I can tell if x changes does y change similarly. But the datasets are of different size! You will need to reduce them to the same size. You can do that by subsampling of the data: take only 1 ride every of 200, which you can achieve \"slicing and broadcasting\" the array or using one of the python function (built in python numpy.random.choice() functions for example: Docstring:\n",
    "choice(a, size=None, replace=True, p=None)\n",
    "\n",
    "Generates a random sample from a given 1-D array\n",
    "\n",
    "        .. versionadded:: 1.7.0\n",
    "\n",
    "Parameters\n",
    "...\n",
    "\n",
    "But make sure you understand how to use it! there is an option \"replace\" which you should think about."
   ]
  },
  {
   "cell_type": "markdown",
   "metadata": {
    "run_control": {
     "frozen": false,
     "read_only": false
    }
   },
   "source": [
    "# Pearson's  test for correlation\n",
    "\n",
    "** notice that the Pearson's is a pairwise test: the samples need to be **\n",
    " a. the same size\n",
    " b. sorted! (how??)\n",
    "    \n",
    "http://docs.scipy.org/doc/scipy/reference/generated/scipy.stats.pearsonr.html#scipy.stats.pearsonr\n",
    "\n"
   ]
  },
  {
   "cell_type": "code",
   "execution_count": 15,
   "metadata": {
    "ExecuteTime": {
     "end_time": "2017-10-05T17:05:04.485128",
     "start_time": "2017-10-05T17:05:04.480928"
    },
    "collapsed": false,
    "run_control": {
     "frozen": false,
     "read_only": false
    }
   },
   "outputs": [
    {
     "name": "stdout",
     "output_type": "stream",
     "text": [
      "(0.99750021613703932, 0.0)\n",
      "Null hypothesis: the ages of female and male riders are linearly uncorrelated\n",
      "scipy return: the correlation coefficient, the p-value of the hypothesis test that these are not lineraly correlated\n"
     ]
    }
   ],
   "source": [
    "# your code here!\n",
    "# wrangle the data as needed\n",
    "# please perform the Pearson's test \n",
    "# and tell me what you find in terms of NULL hypothesis\n",
    "agef = df['ageF']\n",
    "agem = df['ageM'].sample(n=len(agef), random_state=42)\n",
    "print scipy.stats.pearsonr(agef.sort_values(), agem.sort_values())\n",
    "\n",
    "print \"Null hypothesis: the ages of female and male riders are linearly uncorrelated\"\n",
    "print \"scipy return: the correlation coefficient, the p-value of the hypothesis test that these are not lineraly correlated\""
   ]
  },
  {
   "cell_type": "markdown",
   "metadata": {
    "run_control": {
     "frozen": false,
     "read_only": false
    }
   },
   "source": [
    "# Spearman's  test for correlation\n",
    "\n",
    "http://docs.scipy.org/doc/scipy/reference/generated/scipy.stats.spearmanr.html#scipy.stats.spearmanr"
   ]
  },
  {
   "cell_type": "code",
   "execution_count": 16,
   "metadata": {
    "ExecuteTime": {
     "end_time": "2017-10-05T17:05:09.530148",
     "start_time": "2017-10-05T17:05:09.525214"
    },
    "collapsed": false,
    "run_control": {
     "frozen": false,
     "read_only": false
    }
   },
   "outputs": [
    {
     "name": "stdout",
     "output_type": "stream",
     "text": [
      "SpearmanrResult(correlation=0.9991762847641239, pvalue=0.0)\n",
      "Null hypothesis: the ages of female and male riders are rank-order uncorrelated\n",
      "scipy return: the correlation coefficient, the p-value of the hypothesis test that these are not spearman correlated\n"
     ]
    }
   ],
   "source": [
    "# your code here!\n",
    "# wrangle the data as needed\n",
    "# please perform the Spearman's test and tell me what you find in terms of NULL hypothesis\n",
    "print scipy.stats.spearmanr(agef.sort_values(), agem.sort_values())\n",
    "print \"Null hypothesis: the ages of female and male riders are rank-order uncorrelated\"\n",
    "print \"scipy return: the correlation coefficient, the p-value of the hypothesis test that these are not spearman correlated\""
   ]
  },
  {
   "cell_type": "markdown",
   "metadata": {
    "run_control": {
     "frozen": false,
     "read_only": false
    }
   },
   "source": [
    "** please comment on the numbers that you get in the light of the scipy manual: what is rerutned? what does it mean??**"
   ]
  },
  {
   "cell_type": "markdown",
   "metadata": {
    "collapsed": true,
    "run_control": {
     "frozen": false,
     "read_only": false
    }
   },
   "source": [
    "### Use: trip duration of bikers that ride during the day vs night. State your result in words in terms of the Null Hypothesis"
   ]
  },
  {
   "cell_type": "code",
   "execution_count": 17,
   "metadata": {
    "collapsed": false
   },
   "outputs": [],
   "source": [
    "df['day'] = df['starttime'].apply(lambda x: int(int(x.split(\" \")[1].split(\":\")[0]) > 7 and\\\n",
    "                                            int(x.split(\" \")[1].split(\":\")[0]) < 19))"
   ]
  },
  {
   "cell_type": "code",
   "execution_count": 18,
   "metadata": {
    "collapsed": false
   },
   "outputs": [
    {
     "name": "stdout",
     "output_type": "stream",
     "text": [
      "Ks_2sampResult(statistic=0.040418129949792214, pvalue=0.0)\n",
      "null hypothesis: ride times for day and night riders are drawn from the same underlying distribution\n",
      "alternative hypothesis: ride times for day and night riders come from different distributions\n",
      "result: we reject the null hypothesis and accept the alternative that day/night rides come from different distributions\n"
     ]
    }
   ],
   "source": [
    "daytime = df[df['day'] == 1]['tripduration']\n",
    "nighttime = df[df['day'] == 0]['tripduration']\n",
    "ks = scipy.stats.ks_2samp(daytime, nighttime)\n",
    "print ks\n",
    "print \"null hypothesis: ride times for day and night riders are drawn from the same underlying distribution\"\n",
    "print \"alternative hypothesis: ride times for day and night riders come from different distributions\"\n",
    "print \"result: we reject the null hypothesis and accept the alternative that day/night rides come from different distributions\""
   ]
  },
  {
   "cell_type": "code",
   "execution_count": 19,
   "metadata": {
    "collapsed": false
   },
   "outputs": [
    {
     "name": "stdout",
     "output_type": "stream",
     "text": [
      "pearson: (0.99086865327504836, 0.0)\n",
      "spearman: SpearmanrResult(correlation=0.99999933781340089, pvalue=0.0)\n",
      "null hypothesis: ride times among day and night rides are not linearly or rank-order (resp.) correlated\n",
      "alternative hypothesis: ride times among day and night rides are linearly or rank-order correlated\n",
      "result: we reject the null hypothesis and accept the alternative that rides are linearly or rank-order correlated\n"
     ]
    }
   ],
   "source": [
    "day_corr_samp = daytime.sample(len(nighttime)).sort_values()\n",
    "night_corr_samp = nighttime.sort_values()\n",
    "print \"pearson: {}\".format(scipy.stats.pearsonr(day_corr_samp, night_corr_samp))\n",
    "print \"spearman: {}\".format(scipy.stats.spearmanr(day_corr_samp, night_corr_samp))\n",
    "print \"null hypothesis: ride times among day and night rides are not linearly or rank-order (resp.) correlated\"\n",
    "print \"alternative hypothesis: ride times among day and night rides are linearly or rank-order correlated\"\n",
    "print \"result: we reject the null hypothesis and accept the alternative that rides are linearly or rank-order correlated\""
   ]
  },
  {
   "cell_type": "markdown",
   "metadata": {},
   "source": [
    "### Use: age of bikers for trips originating in Manhattan and in Brooklyn. Use at least 2 months of citibike data"
   ]
  },
  {
   "cell_type": "code",
   "execution_count": 20,
   "metadata": {
    "collapsed": false
   },
   "outputs": [
    {
     "data": {
      "text/plain": [
       "Index([u'index', u'tripduration', u'starttime', u'stoptime', u'startstationid',\n",
       "       u'startstationname', u'startstationlatitude', u'startstationlongitude',\n",
       "       u'endstationid', u'endstationname', u'endstationlatitude',\n",
       "       u'endstationlongitude', u'bikeid', u'usertype', u'birthyear', u'gender',\n",
       "       u'ageM', u'ageF', u'day'],\n",
       "      dtype='object')"
      ]
     },
     "execution_count": 20,
     "metadata": {},
     "output_type": "execute_result"
    }
   ],
   "source": [
    "df.columns"
   ]
  },
  {
   "cell_type": "code",
   "execution_count": 21,
   "metadata": {
    "collapsed": false
   },
   "outputs": [
    {
     "data": {
      "text/plain": [
       "0             POINT (-73.97136999999999 40.78275)\n",
       "1    POINT (-73.99086803197861 40.72923649910006)\n",
       "2    POINT (-73.96388769149779 40.77682863439968)\n",
       "3    POINT (-73.96388769149779 40.77682863439968)\n",
       "4    POINT (-73.96388769149779 40.77682863439968)\n",
       "Name: geometry, dtype: object"
      ]
     },
     "execution_count": 21,
     "metadata": {},
     "output_type": "execute_result"
    }
   ],
   "source": [
    "import geopandas as gpd\n",
    "from shapely.geometry import Point\n",
    "def point_cons(args):\n",
    "    return Point(*args)\n",
    "df[\"geometry\"] = df[[\"startstationlongitude\", \"startstationlatitude\"]].apply(point_cons, axis=1)\n",
    "df[\"geometry\"].head()"
   ]
  },
  {
   "cell_type": "code",
   "execution_count": 22,
   "metadata": {
    "collapsed": false
   },
   "outputs": [],
   "source": [
    "gdf = gpd.GeoDataFrame(df)"
   ]
  },
  {
   "cell_type": "code",
   "execution_count": 23,
   "metadata": {
    "collapsed": false
   },
   "outputs": [
    {
     "name": "stdout",
     "output_type": "stream",
     "text": [
      "File “boroughs.geojson” already there; not retrieving.\r\n",
      "\r\n"
     ]
    }
   ],
   "source": [
    "!wget -nc \"https://raw.githubusercontent.com/dwillis/nyc-maps/master/boroughs.geojson\"\n",
    "boroughs = gpd.read_file(\"boroughs.geojson\")"
   ]
  },
  {
   "cell_type": "code",
   "execution_count": 24,
   "metadata": {
    "collapsed": false
   },
   "outputs": [
    {
     "data": {
      "text/plain": [
       "<matplotlib.axes._subplots.AxesSubplot at 0x7fb0e252fe50>"
      ]
     },
     "execution_count": 24,
     "metadata": {},
     "output_type": "execute_result"
    },
    {
     "data": {
      "image/png": "[encoded data removed]",
      "text/plain": [
       "<matplotlib.figure.Figure at 0x7faff6496d10>"
      ]
     },
     "metadata": {},
     "output_type": "display_data"
    }
   ],
   "source": [
    "ax = boroughs.plot()\n",
    "gdf.sample(500).plot(ax=ax)"
   ]
  },
  {
   "cell_type": "code",
   "execution_count": 25,
   "metadata": {
    "collapsed": false
   },
   "outputs": [
    {
     "name": "stdout",
     "output_type": "stream",
     "text": [
      "Warning: CRS does not match!\n"
     ]
    }
   ],
   "source": [
    "joined = gpd.sjoin(gdf, boroughs, op='within', how='inner')"
   ]
  },
  {
   "cell_type": "code",
   "execution_count": 26,
   "metadata": {
    "collapsed": false
   },
   "outputs": [
    {
     "data": {
      "text/html": [
       "<div>\n",
       "<style>\n",
       "    .dataframe thead tr:only-child th {\n",
       "        text-align: right;\n",
       "    }\n",
       "\n",
       "    .dataframe thead th {\n",
       "        text-align: left;\n",
       "    }\n",
       "\n",
       "    .dataframe tbody tr th {\n",
       "        vertical-align: top;\n",
       "    }\n",
       "</style>\n",
       "<table border=\"1\" class=\"dataframe\">\n",
       "  <thead>\n",
       "    <tr style=\"text-align: right;\">\n",
       "      <th></th>\n",
       "      <th>index</th>\n",
       "      <th>tripduration</th>\n",
       "      <th>starttime</th>\n",
       "      <th>stoptime</th>\n",
       "      <th>startstationid</th>\n",
       "      <th>startstationname</th>\n",
       "      <th>startstationlatitude</th>\n",
       "      <th>startstationlongitude</th>\n",
       "      <th>endstationid</th>\n",
       "      <th>endstationname</th>\n",
       "      <th>...</th>\n",
       "      <th>gender</th>\n",
       "      <th>ageM</th>\n",
       "      <th>ageF</th>\n",
       "      <th>day</th>\n",
       "      <th>geometry</th>\n",
       "      <th>index_right</th>\n",
       "      <th>BoroCode</th>\n",
       "      <th>BoroName</th>\n",
       "      <th>Shape_Area</th>\n",
       "      <th>Shape_Leng</th>\n",
       "    </tr>\n",
       "  </thead>\n",
       "  <tbody>\n",
       "    <tr>\n",
       "      <th>0</th>\n",
       "      <td>0</td>\n",
       "      <td>680</td>\n",
       "      <td>2017-01-01 00:00:21</td>\n",
       "      <td>2017-01-01 00:11:41</td>\n",
       "      <td>3226</td>\n",
       "      <td>W 82 St &amp; Central Park West</td>\n",
       "      <td>40.782750</td>\n",
       "      <td>-73.971370</td>\n",
       "      <td>3165</td>\n",
       "      <td>Central Park West &amp; W 72 St</td>\n",
       "      <td>...</td>\n",
       "      <td>2</td>\n",
       "      <td>NaN</td>\n",
       "      <td>50.0</td>\n",
       "      <td>0</td>\n",
       "      <td>POINT (-73.97136999999999 40.78275)</td>\n",
       "      <td>3</td>\n",
       "      <td>1</td>\n",
       "      <td>Manhattan</td>\n",
       "      <td>6.364422e+08</td>\n",
       "      <td>358532.95642</td>\n",
       "    </tr>\n",
       "    <tr>\n",
       "      <th>1</th>\n",
       "      <td>1</td>\n",
       "      <td>1282</td>\n",
       "      <td>2017-01-01 00:00:45</td>\n",
       "      <td>2017-01-01 00:22:08</td>\n",
       "      <td>3263</td>\n",
       "      <td>Cooper Square &amp; E 7 St</td>\n",
       "      <td>40.729236</td>\n",
       "      <td>-73.990868</td>\n",
       "      <td>498</td>\n",
       "      <td>Broadway &amp; W 32 St</td>\n",
       "      <td>...</td>\n",
       "      <td>2</td>\n",
       "      <td>NaN</td>\n",
       "      <td>28.0</td>\n",
       "      <td>0</td>\n",
       "      <td>POINT (-73.99086803197861 40.72923649910006)</td>\n",
       "      <td>3</td>\n",
       "      <td>1</td>\n",
       "      <td>Manhattan</td>\n",
       "      <td>6.364422e+08</td>\n",
       "      <td>358532.95642</td>\n",
       "    </tr>\n",
       "    <tr>\n",
       "      <th>2</th>\n",
       "      <td>2</td>\n",
       "      <td>648</td>\n",
       "      <td>2017-01-01 00:00:57</td>\n",
       "      <td>2017-01-01 00:11:46</td>\n",
       "      <td>3143</td>\n",
       "      <td>5 Ave &amp; E 78 St</td>\n",
       "      <td>40.776829</td>\n",
       "      <td>-73.963888</td>\n",
       "      <td>3152</td>\n",
       "      <td>3 Ave &amp; E 71 St</td>\n",
       "      <td>...</td>\n",
       "      <td>0</td>\n",
       "      <td>NaN</td>\n",
       "      <td>NaN</td>\n",
       "      <td>0</td>\n",
       "      <td>POINT (-73.96388769149779 40.77682863439968)</td>\n",
       "      <td>3</td>\n",
       "      <td>1</td>\n",
       "      <td>Manhattan</td>\n",
       "      <td>6.364422e+08</td>\n",
       "      <td>358532.95642</td>\n",
       "    </tr>\n",
       "    <tr>\n",
       "      <th>3</th>\n",
       "      <td>3</td>\n",
       "      <td>631</td>\n",
       "      <td>2017-01-01 00:01:10</td>\n",
       "      <td>2017-01-01 00:11:42</td>\n",
       "      <td>3143</td>\n",
       "      <td>5 Ave &amp; E 78 St</td>\n",
       "      <td>40.776829</td>\n",
       "      <td>-73.963888</td>\n",
       "      <td>3152</td>\n",
       "      <td>3 Ave &amp; E 71 St</td>\n",
       "      <td>...</td>\n",
       "      <td>0</td>\n",
       "      <td>NaN</td>\n",
       "      <td>NaN</td>\n",
       "      <td>0</td>\n",
       "      <td>POINT (-73.96388769149779 40.77682863439968)</td>\n",
       "      <td>3</td>\n",
       "      <td>1</td>\n",
       "      <td>Manhattan</td>\n",
       "      <td>6.364422e+08</td>\n",
       "      <td>358532.95642</td>\n",
       "    </tr>\n",
       "    <tr>\n",
       "      <th>4</th>\n",
       "      <td>4</td>\n",
       "      <td>621</td>\n",
       "      <td>2017-01-01 00:01:25</td>\n",
       "      <td>2017-01-01 00:11:47</td>\n",
       "      <td>3143</td>\n",
       "      <td>5 Ave &amp; E 78 St</td>\n",
       "      <td>40.776829</td>\n",
       "      <td>-73.963888</td>\n",
       "      <td>3152</td>\n",
       "      <td>3 Ave &amp; E 71 St</td>\n",
       "      <td>...</td>\n",
       "      <td>0</td>\n",
       "      <td>NaN</td>\n",
       "      <td>NaN</td>\n",
       "      <td>0</td>\n",
       "      <td>POINT (-73.96388769149779 40.77682863439968)</td>\n",
       "      <td>3</td>\n",
       "      <td>1</td>\n",
       "      <td>Manhattan</td>\n",
       "      <td>6.364422e+08</td>\n",
       "      <td>358532.95642</td>\n",
       "    </tr>\n",
       "  </tbody>\n",
       "</table>\n",
       "<p>5 rows × 25 columns</p>\n",
       "</div>"
      ],
      "text/plain": [
       "   index  tripduration            starttime             stoptime  \\\n",
       "0      0           680  2017-01-01 00:00:21  2017-01-01 00:11:41   \n",
       "1      1          1282  2017-01-01 00:00:45  2017-01-01 00:22:08   \n",
       "2      2           648  2017-01-01 00:00:57  2017-01-01 00:11:46   \n",
       "3      3           631  2017-01-01 00:01:10  2017-01-01 00:11:42   \n",
       "4      4           621  2017-01-01 00:01:25  2017-01-01 00:11:47   \n",
       "\n",
       "   startstationid             startstationname  startstationlatitude  \\\n",
       "0            3226  W 82 St & Central Park West             40.782750   \n",
       "1            3263       Cooper Square & E 7 St             40.729236   \n",
       "2            3143              5 Ave & E 78 St             40.776829   \n",
       "3            3143              5 Ave & E 78 St             40.776829   \n",
       "4            3143              5 Ave & E 78 St             40.776829   \n",
       "\n",
       "   startstationlongitude  endstationid               endstationname  \\\n",
       "0             -73.971370          3165  Central Park West & W 72 St   \n",
       "1             -73.990868           498           Broadway & W 32 St   \n",
       "2             -73.963888          3152              3 Ave & E 71 St   \n",
       "3             -73.963888          3152              3 Ave & E 71 St   \n",
       "4             -73.963888          3152              3 Ave & E 71 St   \n",
       "\n",
       "       ...       gender  ageM  ageF day  \\\n",
       "0      ...            2   NaN  50.0   0   \n",
       "1      ...            2   NaN  28.0   0   \n",
       "2      ...            0   NaN   NaN   0   \n",
       "3      ...            0   NaN   NaN   0   \n",
       "4      ...            0   NaN   NaN   0   \n",
       "\n",
       "                                       geometry  index_right  BoroCode  \\\n",
       "0           POINT (-73.97136999999999 40.78275)            3         1   \n",
       "1  POINT (-73.99086803197861 40.72923649910006)            3         1   \n",
       "2  POINT (-73.96388769149779 40.77682863439968)            3         1   \n",
       "3  POINT (-73.96388769149779 40.77682863439968)            3         1   \n",
       "4  POINT (-73.96388769149779 40.77682863439968)            3         1   \n",
       "\n",
       "    BoroName    Shape_Area    Shape_Leng  \n",
       "0  Manhattan  6.364422e+08  358532.95642  \n",
       "1  Manhattan  6.364422e+08  358532.95642  \n",
       "2  Manhattan  6.364422e+08  358532.95642  \n",
       "3  Manhattan  6.364422e+08  358532.95642  \n",
       "4  Manhattan  6.364422e+08  358532.95642  \n",
       "\n",
       "[5 rows x 25 columns]"
      ]
     },
     "execution_count": 26,
     "metadata": {},
     "output_type": "execute_result"
    }
   ],
   "source": [
    "joined.head()"
   ]
  },
  {
   "cell_type": "code",
   "execution_count": 27,
   "metadata": {
    "collapsed": false
   },
   "outputs": [],
   "source": [
    "joined[\"age\"] = joined[[\"ageM\", \"ageF\"]].apply(lambda x: x[0] if x[0] else x[1], axis=1)\n",
    "manhattan = joined[joined[\"BoroName\"] == \"Manhattan\"]\n",
    "brooklyn = joined[joined[\"BoroName\"] == \"Brooklyn\"]"
   ]
  },
  {
   "cell_type": "code",
   "execution_count": 28,
   "metadata": {
    "collapsed": false
   },
   "outputs": [],
   "source": [
    "brooklyn_ages = brooklyn[\"age\"].dropna()\n",
    "manhattan_ages = manhattan[\"age\"].dropna()"
   ]
  },
  {
   "cell_type": "code",
   "execution_count": 29,
   "metadata": {
    "collapsed": false
   },
   "outputs": [
    {
     "name": "stdout",
     "output_type": "stream",
     "text": [
      "KS results: Ks_2sampResult(statistic=0.10327098969370152, pvalue=0.0)\n",
      "with a p-value of 0.0, we reject the null hypothesis that rider ages in brooklyn and rider ages in manhattan are drawn from the same distribution\n"
     ]
    }
   ],
   "source": [
    "print \"KS results: {}\".format(scipy.stats.ks_2samp(brooklyn_ages, manhattan_ages))\n",
    "print \"with a p-value of 0.0, we reject the null hypothesis\\\n",
    " that rider ages in brooklyn and rider ages in manhattan are drawn from the same distribution\""
   ]
  },
  {
   "cell_type": "code",
   "execution_count": 30,
   "metadata": {
    "collapsed": false
   },
   "outputs": [
    {
     "name": "stdout",
     "output_type": "stream",
     "text": [
      "pearson results: (0.9916574919361808, 0.0)\n"
     ]
    }
   ],
   "source": [
    "manhattan_corr = manhattan_ages.sample(len(brooklyn_ages), random_state=42).sort_values()\n",
    "brooklyn_corr = brooklyn_ages.sort_values()\n",
    "print \"pearson results: {}\".format(scipy.stats.pearsonr(manhattan_corr, brooklyn_corr))"
   ]
  },
  {
   "cell_type": "code",
   "execution_count": 31,
   "metadata": {
    "collapsed": false
   },
   "outputs": [
    {
     "name": "stdout",
     "output_type": "stream",
     "text": [
      "spearman results: SpearmanrResult(correlation=0.99894355248640487, pvalue=0.0)\n"
     ]
    }
   ],
   "source": [
    "print \"spearman results: {}\".format(scipy.stats.spearmanr(manhattan_corr, brooklyn_corr))"
   ]
  },
  {
   "cell_type": "code",
   "execution_count": 32,
   "metadata": {
    "collapsed": false
   },
   "outputs": [
    {
     "name": "stdout",
     "output_type": "stream",
     "text": [
      "conclusions: in either case, we reject the null hypothesis that there is no (linear or rank-order) relationship among ages of riders in brooklyn and ages of riders in manhattan\n"
     ]
    }
   ],
   "source": [
    "print \"conclusions: in either case, we reject the null hypothesis that there is no (linear or rank-order) relationship\\\n",
    " among ages of riders in brooklyn and ages of riders in manhattan\""
   ]
  },
  {
   "cell_type": "code",
   "execution_count": null,
   "metadata": {
    "collapsed": true
   },
   "outputs": [],
   "source": []
  },
  {
   "cell_type": "code",
   "execution_count": null,
   "metadata": {
    "collapsed": true
   },
   "outputs": [],
   "source": []
  },
  {
   "cell_type": "code",
   "execution_count": null,
   "metadata": {
    "collapsed": true
   },
   "outputs": [],
   "source": []
  },
  {
   "cell_type": "code",
   "execution_count": null,
   "metadata": {
    "collapsed": true
   },
   "outputs": [],
   "source": []
  }
 ],
 "metadata": {
  "anaconda-cloud": {},
  "kernelspec": {
   "display_name": "Python 2",
   "language": "python",
   "name": "python2"
  },
  "language_info": {
   "codemirror_mode": {
    "name": "ipython",
    "version": 2
   },
   "file_extension": ".py",
   "mimetype": "text/x-python",
   "name": "python",
   "nbconvert_exporter": "python",
   "pygments_lexer": "ipython2",
   "version": "2.7.11"
  },
  "latex_envs": {
   "LaTeX_envs_menu_present": true,
   "bibliofile": "biblio.bib",
   "cite_by": "apalike",
   "current_citInitial": 1,
   "eqLabelWithNumbers": true,
   "eqNumInitial": 1,
   "hotkeys": {
    "equation": "Ctrl-E",
    "itemize": "Ctrl-I"
   },
   "labels_anchors": false,
   "latex_user_defs": false,
   "report_style_numbering": false,
   "user_envs_cfg": false
  },
  "toc": {
   "colors": {
    "hover_highlight": "#DAA520",
    "running_highlight": "#FF0000",
    "selected_highlight": "#FFD700"
   },
   "moveMenuLeft": true,
   "nav_menu": {
    "height": "135px",
    "width": "251px"
   },
   "navigate_menu": true,
   "number_sections": true,
   "sideBar": true,
   "threshold": 4,
   "toc_cell": false,
   "toc_section_display": "block",
   "toc_window_display": false
  }
 },
 "nbformat": 4,
 "nbformat_minor": 0
}
