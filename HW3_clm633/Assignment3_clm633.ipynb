{
 "cells": [
  {
   "cell_type": "markdown",
   "metadata": {},
   "source": [
    "## Assignment 3: Finish z-test lab and turn it in as a notebook .\n",
    "\n",
    "I am looking for here is: seeing a good Null/alternative hypothesis statement and treatment, with a clear Null and Alternative spelled out AND written out as a formula, and a good interpretation of the Z value you obtain in terms of ability or inability to reject the Null Hypothesis. \n",
    "Here is the forumla\n",
    "\n",
    "<img src=\"http://www.sciweavers.org/tex2img.php?eq=Z%20%3D%20%5Cfrac%7B%5Cmu_%7Bpop%7D%20-%20%5Cmu_%7Bsample%7D%7D%7B%5Csigma%20%2F%20%5Csqrt%7BN%7D%7D&bc=White&fc=Black&im=jpg&fs=12&ff=arev&edit=0\" align=\"center\" border=\"0\" alt=\"Z = \\frac{\\mu_{pop} - \\mu_{sample}}{\\sigma / \\sqrt{N}}\" width=\"154\" height=\"44\" /> \n",
    "\n",
    "This is also in the slides attached (in a more readable format).\n",
    "\n",
    "The chapter of Statistics In a Nutshell that covers these topics is called Inferential statistics. It is chapter 3 in the hard copies of the book in the CUSP library, but it was moved to chapter 7 in the online book version which is in the link. Same content more or less.\n",
    "\n",
    "\n",
    "### GRADING: \n",
    "\n",
    "Your notebook must display\n",
    "- the complete formulation of the hypothesis (Null and Alternative) to be tested in words and formula\n",
    "- the download of the data (which is in https://github.com/fedhere/PUI2017_fb55/blob/master/Lab3_fb55/times.txt, but you must get the raw data!)\n",
    "- the calculation of the z statistics (with the given formula and the data processed from the data file)\n",
    "- the comparison of the statistis with the significance threshold and the conclusions about the Null Hypothesis\n"
   ]
  },
  {
   "cell_type": "markdown",
   "metadata": {},
   "source": [
    "## Hypothesis formulation\n",
    "\n",
    "- Null hypothesis: The mean time on the new route is the same as or slower than the old route.\n",
    "- Alternative hypothesis: the mean time on the new route is significantly faster than the old route.\n",
    "- Significance: 5%."
   ]
  },
  {
   "cell_type": "code",
   "execution_count": 40,
   "metadata": {
    "collapsed": false
   },
   "outputs": [
    {
     "data": {
      "text/html": [
       "<div>\n",
       "<style>\n",
       "    .dataframe thead tr:only-child th {\n",
       "        text-align: right;\n",
       "    }\n",
       "\n",
       "    .dataframe thead th {\n",
       "        text-align: left;\n",
       "    }\n",
       "\n",
       "    .dataframe tbody tr th {\n",
       "        vertical-align: top;\n",
       "    }\n",
       "</style>\n",
       "<table border=\"1\" class=\"dataframe\">\n",
       "  <thead>\n",
       "    <tr style=\"text-align: right;\">\n",
       "      <th></th>\n",
       "      <th>Time</th>\n",
       "    </tr>\n",
       "  </thead>\n",
       "  <tbody>\n",
       "    <tr>\n",
       "      <th>0</th>\n",
       "      <td>31.622239</td>\n",
       "    </tr>\n",
       "    <tr>\n",
       "      <th>1</th>\n",
       "      <td>32.821376</td>\n",
       "    </tr>\n",
       "    <tr>\n",
       "      <th>2</th>\n",
       "      <td>30.229101</td>\n",
       "    </tr>\n",
       "    <tr>\n",
       "      <th>3</th>\n",
       "      <td>31.413766</td>\n",
       "    </tr>\n",
       "    <tr>\n",
       "      <th>4</th>\n",
       "      <td>39.010550</td>\n",
       "    </tr>\n",
       "  </tbody>\n",
       "</table>\n",
       "</div>"
      ],
      "text/plain": [
       "        Time\n",
       "0  31.622239\n",
       "1  32.821376\n",
       "2  30.229101\n",
       "3  31.413766\n",
       "4  39.010550"
      ]
     },
     "execution_count": 40,
     "metadata": {},
     "output_type": "execute_result"
    }
   ],
   "source": [
    "import matplotlib\n",
    "import numpy as np\n",
    "import pandas as pd\n",
    "import seaborn as sns\n",
    "\n",
    "%matplotlib inline\n",
    "# the download of the data\n",
    "!wget -q https://raw.githubusercontent.com/fedhere/PUI2017_fb55/master/Lab3_fb55/times.txt -O times.txt\n",
    "df = pd.read_csv(\"times.txt\", header=None)\n",
    "df.columns = [\"Time\"]\n",
    "df.head()"
   ]
  },
  {
   "cell_type": "code",
   "execution_count": 41,
   "metadata": {
    "collapsed": false
   },
   "outputs": [
    {
     "data": {
      "text/plain": [
       "count    100.000000\n",
       "mean      34.466162\n",
       "std        7.137280\n",
       "min       16.527267\n",
       "25%       30.020542\n",
       "50%       34.693057\n",
       "75%       39.603456\n",
       "max       48.749877\n",
       "Name: Time, dtype: float64"
      ]
     },
     "execution_count": 41,
     "metadata": {},
     "output_type": "execute_result"
    }
   ],
   "source": [
    "df[\"Time\"].describe()"
   ]
  },
  {
   "cell_type": "code",
   "execution_count": 42,
   "metadata": {
    "collapsed": false
   },
   "outputs": [
    {
     "name": "stdout",
     "output_type": "stream",
     "text": [
      "mean: 34.4661616883\n",
      "std: 7.13728013375\n"
     ]
    }
   ],
   "source": [
    "print \"mean: {}\".format(df[\"Time\"].mean())\n",
    "print \"std: {}\".format(df[\"Time\"].std(ddof=1))"
   ]
  },
  {
   "cell_type": "code",
   "execution_count": 43,
   "metadata": {
    "collapsed": false
   },
   "outputs": [
    {
     "name": "stdout",
     "output_type": "stream",
     "text": [
      "z: -2.55639718617\n"
     ]
    }
   ],
   "source": [
    "z = (df[\"Time\"].mean() - 36.) / (6. / np.sqrt(len(df)))\n",
    "print \"z: {}\".format(z)"
   ]
  },
  {
   "cell_type": "code",
   "execution_count": 44,
   "metadata": {
    "collapsed": false
   },
   "outputs": [
    {
     "name": "stdout",
     "output_type": "stream",
     "text": [
      "p: 0.00528811602207\n"
     ]
    }
   ],
   "source": [
    "import scipy.stats\n",
    "p = scipy.stats.norm.cdf(z)\n",
    "print \"p: {}\".format(p)"
   ]
  },
  {
   "cell_type": "markdown",
   "metadata": {},
   "source": [
    "Conclusion: we do reject the null hypothesis because we expect to see results this or more extreme less than .5% of the time and our significance threshold was 5%. \n",
    "\n",
    "Based on this result we conclude that the new route runs significantly faster."
   ]
  }
 ],
 "metadata": {
  "kernelspec": {
   "display_name": "Python 2",
   "language": "python",
   "name": "python2"
  },
  "language_info": {
   "codemirror_mode": {
    "name": "ipython",
    "version": 2
   },
   "file_extension": ".py",
   "mimetype": "text/x-python",
   "name": "python",
   "nbconvert_exporter": "python",
   "pygments_lexer": "ipython2",
   "version": "2.7.11"
  }
 },
 "nbformat": 4,
 "nbformat_minor": 0
}
