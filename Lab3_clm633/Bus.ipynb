{
 "cells": [
  {
   "cell_type": "code",
   "execution_count": 40,
   "metadata": {
    "collapsed": false
   },
   "outputs": [],
   "source": [
    "import pandas as pd\n",
    "import matplotlib\n",
    "%matplotlib inline\n",
    "df = pd.read_csv(\"times.txt\", header=None)"
   ]
  },
  {
   "cell_type": "code",
   "execution_count": 50,
   "metadata": {
    "collapsed": false
   },
   "outputs": [
    {
     "data": {
      "text/plain": [
       "<matplotlib.axes._subplots.AxesSubplot at 0x7f85944bd910>"
      ]
     },
     "execution_count": 50,
     "metadata": {},
     "output_type": "execute_result"
    },
    {
     "data": {
      "image/png": "[encoded data removed]",
      "text/plain": [
       "<matplotlib.figure.Figure at 0x7f859d0afbd0>"
      ]
     },
     "metadata": {},
     "output_type": "display_data"
    }
   ],
   "source": [
    "import seaborn as sns\n",
    "df[\"Time\"].hist()"
   ]
  },
  {
   "cell_type": "code",
   "execution_count": 41,
   "metadata": {
    "collapsed": false
   },
   "outputs": [],
   "source": [
    "df = df.rename(columns={0:\"Time\"})"
   ]
  },
  {
   "cell_type": "code",
   "execution_count": 34,
   "metadata": {
    "collapsed": false
   },
   "outputs": [
    {
     "data": {
      "text/plain": [
       "count    100.000000\n",
       "mean      34.466162\n",
       "std        7.137280\n",
       "min       16.527267\n",
       "25%       30.020542\n",
       "50%       34.693057\n",
       "75%       39.603456\n",
       "max       48.749877\n",
       "Name: Time, dtype: float64"
      ]
     },
     "execution_count": 34,
     "metadata": {},
     "output_type": "execute_result"
    }
   ],
   "source": [
    "df[\"Time\"].describe()"
   ]
  },
  {
   "cell_type": "code",
   "execution_count": 44,
   "metadata": {
    "collapsed": false
   },
   "outputs": [
    {
     "name": "stdout",
     "output_type": "stream",
     "text": [
      "mean: 34.4661616883\n",
      "std: 7.13728013375\n"
     ]
    }
   ],
   "source": [
    "print \"mean: {}\".format(df[\"Time\"].mean())\n",
    "print \"std: {}\".format(df[\"Time\"].std())"
   ]
  },
  {
   "cell_type": "code",
   "execution_count": 53,
   "metadata": {
    "collapsed": false
   },
   "outputs": [
    {
     "data": {
      "text/plain": [
       "-2.5563971861666701"
      ]
     },
     "execution_count": 53,
     "metadata": {},
     "output_type": "execute_result"
    }
   ],
   "source": [
    "z = (df[\"Time\"].mean() - 36.) / (6. / np.sqrt(100))\n",
    "z"
   ]
  },
  {
   "cell_type": "code",
   "execution_count": 18,
   "metadata": {
    "collapsed": false
   },
   "outputs": [
    {
     "data": {
      "text/plain": [
       "array([[ 32.82137636+0.j],\n",
       "       [ 30.22910140+0.j],\n",
       "       [ 31.41376587+0.j],\n",
       "       [ 39.01055035+0.j],\n",
       "       [ 34.82207891+0.j],\n",
       "       [ 39.87188366+0.j],\n",
       "       [ 39.57994562+0.j],\n",
       "       [ 31.02658678+0.j],\n",
       "       [ 27.66246068+0.j],\n",
       "       [ 18.87528840+0.j],\n",
       "       [ 46.23137310+0.j],\n",
       "       [ 30.01522604+0.j],\n",
       "       [ 47.60041040+0.j],\n",
       "       [ 16.52726666+0.j],\n",
       "       [ 42.44623310+0.j],\n",
       "       [ 33.62527449+0.j],\n",
       "       [ 42.28462558+0.j],\n",
       "       [ 46.20520667+0.j],\n",
       "       [ 30.87517392+0.j],\n",
       "       [ 32.94800341+0.j],\n",
       "       [ 26.17691512+0.j],\n",
       "       [ 31.25699649+0.j],\n",
       "       [ 35.33644554+0.j],\n",
       "       [ 35.64072501+0.j],\n",
       "       [ 40.32297174+0.j],\n",
       "       [ 38.04348588+0.j],\n",
       "       [ 29.45797930+0.j],\n",
       "       [ 23.91636367+0.j],\n",
       "       [ 34.56403521+0.j],\n",
       "       [ 45.42782464+0.j],\n",
       "       [ 38.95607754+0.j],\n",
       "       [ 39.11396748+0.j],\n",
       "       [ 39.67398759+0.j],\n",
       "       [ 31.89148105+0.j],\n",
       "       [ 22.62379325+0.j],\n",
       "       [ 26.18910408+0.j],\n",
       "       [ 43.54114213+0.j],\n",
       "       [ 33.26073860+0.j],\n",
       "       [ 31.67602384+0.j],\n",
       "       [ 37.12846259+0.j],\n",
       "       [ 38.22048496+0.j],\n",
       "       [ 34.38814185+0.j],\n",
       "       [ 36.11407371+0.j],\n",
       "       [ 44.08064814+0.j],\n",
       "       [ 29.59917161+0.j],\n",
       "       [ 37.02411751+0.j],\n",
       "       [ 41.60576556+0.j],\n",
       "       [ 44.37860528+0.j],\n",
       "       [ 38.06471077+0.j],\n",
       "       [ 22.90526456+0.j],\n",
       "       [ 40.27182857+0.j],\n",
       "       [ 31.57979239+0.j],\n",
       "       [ 25.88037795+0.j],\n",
       "       [ 28.89130480+0.j],\n",
       "       [ 44.33687925+0.j],\n",
       "       [ 36.78948684+0.j],\n",
       "       [ 43.46098875+0.j],\n",
       "       [ 40.65557000+0.j],\n",
       "       [ 26.16634004+0.j],\n",
       "       [ 25.13884784+0.j],\n",
       "       [ 33.01581456+0.j],\n",
       "       [ 32.87050073+0.j],\n",
       "       [ 26.28557154+0.j],\n",
       "       [ 39.44933037+0.j],\n",
       "       [ 36.25528612+0.j],\n",
       "       [ 40.71913300+0.j],\n",
       "       [ 40.57181545+0.j],\n",
       "       [ 19.87166413+0.j],\n",
       "       [ 43.21925286+0.j],\n",
       "       [ 31.48102823+0.j],\n",
       "       [ 37.14915056+0.j],\n",
       "       [ 38.99150400+0.j],\n",
       "       [ 20.53059384+0.j],\n",
       "       [ 27.80447692+0.j],\n",
       "       [ 38.69933298+0.j],\n",
       "       [ 30.02231420+0.j],\n",
       "       [ 38.64884169+0.j],\n",
       "       [ 26.40668884+0.j],\n",
       "       [ 32.10224978+0.j],\n",
       "       [ 28.31532754+0.j],\n",
       "       [ 43.26195884+0.j],\n",
       "       [ 40.36094070+0.j],\n",
       "       [ 37.30252580+0.j],\n",
       "       [ 31.45110181+0.j],\n",
       "       [ 38.79599524+0.j],\n",
       "       [ 36.92553372+0.j],\n",
       "       [ 32.37167945+0.j],\n",
       "       [ 23.25835631+0.j],\n",
       "       [ 26.42613261+0.j],\n",
       "       [ 48.74987653+0.j],\n",
       "       [ 31.42512354+0.j],\n",
       "       [ 46.80679298+0.j],\n",
       "       [ 30.59748648+0.j],\n",
       "       [ 20.79263220+0.j],\n",
       "       [ 26.19785226+0.j],\n",
       "       [ 42.72740970+0.j],\n",
       "       [ 33.73146950+0.j],\n",
       "       [ 37.23859057+0.j],\n",
       "       [ 36.33984141+0.j]])"
      ]
     },
     "execution_count": 18,
     "metadata": {},
     "output_type": "execute_result"
    }
   ],
   "source": [
    "import numpy as np\n",
    "np.fft.fft(df)"
   ]
  },
  {
   "cell_type": "code",
   "execution_count": null,
   "metadata": {
    "collapsed": true
   },
   "outputs": [],
   "source": []
  }
 ],
 "metadata": {
  "kernelspec": {
   "display_name": "Python 2",
   "language": "python",
   "name": "python2"
  },
  "language_info": {
   "codemirror_mode": {
    "name": "ipython",
    "version": 2
   },
   "file_extension": ".py",
   "mimetype": "text/x-python",
   "name": "python",
   "nbconvert_exporter": "python",
   "pygments_lexer": "ipython2",
   "version": "2.7.12"
  }
 },
 "nbformat": 4,
 "nbformat_minor": 0
}
