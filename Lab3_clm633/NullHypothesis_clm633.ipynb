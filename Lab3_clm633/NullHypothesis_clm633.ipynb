{
 "cells": [
  {
   "cell_type": "markdown",
   "metadata": {},
   "source": [
    "### Formulate the Null hypothesis in words and in formulae for the 4 experiments below:\n",
    "\n",
    "**Do diets help lose more fat than the exercise?**\n",
    "\n",
    "Experimental setup: you have a test and a control sample.\n",
    "\n",
    "#### Formulation\n",
    "The average percentage of body fat among the group that diets is the same as or higher than the group that exercises.\n",
    "\n",
    "The average percentage of body fat among either group is not significantly lower than the control."
   ]
  },
  {
   "cell_type": "markdown",
   "metadata": {},
   "source": [
    "**Quantify the danger of smoking for pregnant women.** (Olds et al., 1994, p. 223)\n",
    "\n",
    "Experimemtal setup: measure IQ of children at ages 1, 2, 3, and 4 years of age.\n",
    "\n",
    "#### Formulation\n",
    "4 hypotheses: \n",
    "The average IQ of children at age {1, 2, 3, 4} born to smokers is the same as or higher than the average IQ of children at age {1, 2, 3, 4} born to non-smokers."
   ]
  },
  {
   "cell_type": "markdown",
   "metadata": {},
   "source": [
    "**Contribute to the incidence of diabetes** \n",
    "Food deserts are defined as parts of the country vapid of fresh fruit, vegetables, and other healthful whole foods, usually found in impoverished areas. This is largely due to a lack of grocery stores, farmers' markets, and healthy food providers.\n",
    "\n",
    "This is not a lab experiment, but you have data the incidence of diabetes for the US population.\n",
    "\n",
    "\n",
    "#### Formulation\n",
    "Residents of food desert areas (as defined by being not within 5 minutes' walk of a healthy food option) have the same or significantly lower rate of diabetes occurrence than residents of non-food-desert areas"
   ]
  },
  {
   "cell_type": "code",
   "execution_count": null,
   "metadata": {
    "collapsed": true
   },
   "outputs": [],
   "source": []
  }
 ],
 "metadata": {
  "kernelspec": {
   "display_name": "Python 2",
   "language": "python",
   "name": "python2"
  },
  "language_info": {
   "codemirror_mode": {
    "name": "ipython",
    "version": 2
   },
   "file_extension": ".py",
   "mimetype": "text/x-python",
   "name": "python",
   "nbconvert_exporter": "python",
   "pygments_lexer": "ipython2",
   "version": "2.7.12"
  }
 },
 "nbformat": 4,
 "nbformat_minor": 0
}
